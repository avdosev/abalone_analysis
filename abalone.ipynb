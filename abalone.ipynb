{
 "cells": [
  {
   "cell_type": "markdown",
   "metadata": {
    "colab_type": "text",
    "id": "xwqOmpAMWk5R"
   },
   "source": [
    "### Прогнозирование возраста морского ушка на основе физических измерений.\n",
    "\n",
    "Возраст морского ушка определяется путем разрезания оболочки через конус, ее окрашивания и подсчета количества колец через микроскоп - скучная и трудоемкая задача.  Другие измерения, которые легче получить, используются для прогнозирования возраста.  Для решения этой задачи может потребоваться дополнительная информация, например, о погодных условиях и местоположении (отсюда и наличие продовольствия).\n",
    "\n",
    "\n",
    "Дано имя атрибута, тип атрибута, единица измерения и\n",
    "краткое описание.\n",
    "\n",
    "| Название | Тип данных | Измер. | Описание |\n",
    "|---------|----------|------------|----|\n",
    "| Пол | именной | - | M, F и I (младенец)\n",
    "| Длина | непрерывная | мм. | Самое длинное измерение раковины\n",
    "| Диаметр | непрерывного | мм. | перпендикулярно длине\n",
    "| Высота | непрерывного | мм. | с мясом в скорлупе\n",
    "| Общий вес | непрерывного | граммы | всего ушка\n",
    "| Перемешанный вес | непрерывного | граммы | веса мяса\n",
    "| Вес внутренностей | непрерывный | граммы | веса кишечника (после кровотечения)\n",
    "| Вес скорлупы | непрерывный | граммы  | после сушки\n",
    "| Кольца | целые | - | +1,5 дает возраст в годах\n",
    "\n",
    "Количество колец - это значение для прогнозирования: либо\n",
    "как непрерывное значение или как проблема классификации. \n",
    "Позже мы рассмотрим почему предсказание колец можно также считать задачей классификации."
   ]
  },
  {
   "cell_type": "code",
   "execution_count": 1,
   "metadata": {
    "colab": {
     "base_uri": "https://localhost:8080/",
     "height": 105
    },
    "colab_type": "code",
    "id": "Vu9ryF5pWk5U",
    "outputId": "fc820e06-9b53-46ac-f4a2-b675296612be",
    "pycharm": {
     "is_executing": false
    }
   },
   "outputs": [
    {
     "name": "stderr",
     "output_type": "stream",
     "text": [
      "c:\\python38\\lib\\site-packages\\sklearn\\externals\\six.py:28: FutureWarning: The module is deprecated in version 0.21 and will be removed in version 0.23 since we've dropped support for Python 2.7. Please rely on the official version of six (https://pypi.org/project/six/).\n",
      "  warnings.warn(\"The module is deprecated in version 0.21 and will be removed \"\n",
      "c:\\python38\\lib\\site-packages\\sklearn\\utils\\deprecation.py:144: FutureWarning: The sklearn.metrics.scorer module is  deprecated in version 0.22 and will be removed in version 0.24. The corresponding classes / functions should instead be imported from sklearn.metrics. Anything that cannot be imported from sklearn.metrics is now part of the private API.\n",
      "  warnings.warn(message, FutureWarning)\n",
      "c:\\python38\\lib\\site-packages\\sklearn\\utils\\deprecation.py:144: FutureWarning: The sklearn.feature_selection.base module is  deprecated in version 0.22 and will be removed in version 0.24. The corresponding classes / functions should instead be imported from sklearn.feature_selection. Anything that cannot be imported from sklearn.feature_selection is now part of the private API.\n",
      "  warnings.warn(message, FutureWarning)\n"
     ]
    }
   ],
   "source": [
    "import pandas as pd\n",
    "import matplotlib.pyplot as plt\n",
    "import seaborn as sns\n",
    "import numpy as np\n",
    "\n",
    "# from sklearn import курсач\n",
    "from sklearn.linear_model import LinearRegression, LogisticRegression\n",
    "from sklearn.preprocessing import PolynomialFeatures, StandardScaler\n",
    "from sklearn.svm import SVC, SVR, LinearSVR, NuSVR\n",
    "from sklearn.model_selection import train_test_split\n",
    "from sklearn.metrics import *\n",
    "from sklearn.ensemble import *\n",
    "from sklearn.neural_network import MLPRegressor\n",
    "from sklearn.tree import *\n",
    "from sklearn.neighbors import KNeighborsRegressor\n",
    "from sklearn.kernel_ridge import KernelRidge\n",
    "from sklearn.model_selection import cross_val_score\n",
    "from sklearn.externals.six import StringIO\n",
    "\n",
    "import pydotplus\n",
    "from IPython.display import Image\n",
    "import json\n",
    "\n",
    "import pickle\n",
    "\n",
    "import tensorflow as tf\n",
    "import tensorflow.keras as keras\n",
    "\n",
    "import itertools\n",
    "from datetime import datetime\n",
    "import os\n",
    "\n",
    "from util_funcs import *\n",
    "import eli5\n",
    "from eli5.sklearn import PermutationImportance"
   ]
  },
  {
   "cell_type": "code",
   "execution_count": 2,
   "metadata": {
    "colab": {},
    "colab_type": "code",
    "id": "dqqimYaRWk5d",
    "pycharm": {
     "is_executing": false
    }
   },
   "outputs": [],
   "source": [
    "data_path = './data/abalone.csv'"
   ]
  },
  {
   "cell_type": "code",
   "execution_count": 3,
   "metadata": {
    "colab": {},
    "colab_type": "code",
    "id": "NvpDNQFCWk5l",
    "pycharm": {
     "is_executing": false
    }
   },
   "outputs": [],
   "source": [
    "df = pd.read_csv(data_path)"
   ]
  },
  {
   "cell_type": "code",
   "execution_count": 4,
   "metadata": {
    "colab": {
     "base_uri": "https://localhost:8080/",
     "height": 204
    },
    "colab_type": "code",
    "id": "luGYUeY8Wk5o",
    "outputId": "4acea62e-3aac-4906-8855-a5225b7d3ef5",
    "pycharm": {
     "is_executing": false
    }
   },
   "outputs": [
    {
     "data": {
      "text/html": [
       "<div>\n",
       "<style scoped>\n",
       "    .dataframe tbody tr th:only-of-type {\n",
       "        vertical-align: middle;\n",
       "    }\n",
       "\n",
       "    .dataframe tbody tr th {\n",
       "        vertical-align: top;\n",
       "    }\n",
       "\n",
       "    .dataframe thead th {\n",
       "        text-align: right;\n",
       "    }\n",
       "</style>\n",
       "<table border=\"1\" class=\"dataframe\">\n",
       "  <thead>\n",
       "    <tr style=\"text-align: right;\">\n",
       "      <th></th>\n",
       "      <th>Sex</th>\n",
       "      <th>Length</th>\n",
       "      <th>Diameter</th>\n",
       "      <th>Height</th>\n",
       "      <th>Whole</th>\n",
       "      <th>Shucked</th>\n",
       "      <th>Viscera</th>\n",
       "      <th>Shell</th>\n",
       "      <th>Rings</th>\n",
       "    </tr>\n",
       "  </thead>\n",
       "  <tbody>\n",
       "    <tr>\n",
       "      <th>0</th>\n",
       "      <td>M</td>\n",
       "      <td>0.455</td>\n",
       "      <td>0.365</td>\n",
       "      <td>0.095</td>\n",
       "      <td>0.5140</td>\n",
       "      <td>0.2245</td>\n",
       "      <td>0.1010</td>\n",
       "      <td>0.150</td>\n",
       "      <td>15</td>\n",
       "    </tr>\n",
       "    <tr>\n",
       "      <th>1</th>\n",
       "      <td>M</td>\n",
       "      <td>0.350</td>\n",
       "      <td>0.265</td>\n",
       "      <td>0.090</td>\n",
       "      <td>0.2255</td>\n",
       "      <td>0.0995</td>\n",
       "      <td>0.0485</td>\n",
       "      <td>0.070</td>\n",
       "      <td>7</td>\n",
       "    </tr>\n",
       "    <tr>\n",
       "      <th>2</th>\n",
       "      <td>F</td>\n",
       "      <td>0.530</td>\n",
       "      <td>0.420</td>\n",
       "      <td>0.135</td>\n",
       "      <td>0.6770</td>\n",
       "      <td>0.2565</td>\n",
       "      <td>0.1415</td>\n",
       "      <td>0.210</td>\n",
       "      <td>9</td>\n",
       "    </tr>\n",
       "    <tr>\n",
       "      <th>3</th>\n",
       "      <td>M</td>\n",
       "      <td>0.440</td>\n",
       "      <td>0.365</td>\n",
       "      <td>0.125</td>\n",
       "      <td>0.5160</td>\n",
       "      <td>0.2155</td>\n",
       "      <td>0.1140</td>\n",
       "      <td>0.155</td>\n",
       "      <td>10</td>\n",
       "    </tr>\n",
       "    <tr>\n",
       "      <th>4</th>\n",
       "      <td>I</td>\n",
       "      <td>0.330</td>\n",
       "      <td>0.255</td>\n",
       "      <td>0.080</td>\n",
       "      <td>0.2050</td>\n",
       "      <td>0.0895</td>\n",
       "      <td>0.0395</td>\n",
       "      <td>0.055</td>\n",
       "      <td>7</td>\n",
       "    </tr>\n",
       "  </tbody>\n",
       "</table>\n",
       "</div>"
      ],
      "text/plain": [
       "  Sex  Length  Diameter  Height   Whole  Shucked  Viscera  Shell  Rings\n",
       "0   M   0.455     0.365   0.095  0.5140   0.2245   0.1010  0.150     15\n",
       "1   M   0.350     0.265   0.090  0.2255   0.0995   0.0485  0.070      7\n",
       "2   F   0.530     0.420   0.135  0.6770   0.2565   0.1415  0.210      9\n",
       "3   M   0.440     0.365   0.125  0.5160   0.2155   0.1140  0.155     10\n",
       "4   I   0.330     0.255   0.080  0.2050   0.0895   0.0395  0.055      7"
      ]
     },
     "execution_count": 4,
     "metadata": {},
     "output_type": "execute_result"
    }
   ],
   "source": [
    "df.head()"
   ]
  },
  {
   "cell_type": "code",
   "execution_count": 5,
   "metadata": {
    "colab": {},
    "colab_type": "code",
    "id": "5ZgYTKtyWk5s",
    "pycharm": {
     "is_executing": false
    },
    "scrolled": false
   },
   "outputs": [],
   "source": [
    "def show_boxplot(df):\n",
    "    l = df.loc[:, 'Length':].columns.values\n",
    "    number_of_columns=9\n",
    "    number_of_rows = len(l)-1/number_of_columns\n",
    "    plt.figure(figsize=(number_of_columns,5*number_of_rows))\n",
    "    for i in range(0,len(l)):\n",
    "        plt.subplot(number_of_rows + 1,number_of_columns,i+1)\n",
    "        sns.set_style('whitegrid')\n",
    "        sns.boxplot(df[l[i]],color='green',orient='v')\n",
    "        plt.tight_layout()"
   ]
  },
  {
   "cell_type": "code",
   "execution_count": 6,
   "metadata": {
    "colab": {
     "base_uri": "https://localhost:8080/",
     "height": 374
    },
    "colab_type": "code",
    "id": "kiHvk9x3Wk5v",
    "outputId": "e34f5c53-c80f-41b6-904d-c751f86172f4",
    "pycharm": {
     "is_executing": false
    },
    "scrolled": false
   },
   "outputs": [
    {
     "data": {
      "image/png": "[encoded data removed]",
      "text/plain": [
       "<Figure size 648x2840 with 8 Axes>"
      ]
     },
     "metadata": {
      "needs_background": "light"
     },
     "output_type": "display_data"
    }
   ],
   "source": [
    "show_boxplot(df)"
   ]
  },
  {
   "cell_type": "code",
   "execution_count": 7,
   "metadata": {
    "colab": {
     "base_uri": "https://localhost:8080/",
     "height": 51
    },
    "colab_type": "code",
    "id": "CLL4jAePWk5y",
    "outputId": "dbdf8e53-de4d-4023-d2be-4256227cd50f",
    "pycharm": {
     "is_executing": false
    }
   },
   "outputs": [
    {
     "name": "stdout",
     "output_type": "stream",
     "text": [
      "Максимальное количество колец: 1\n",
      "Минимальное количество колец: 29\n"
     ]
    }
   ],
   "source": [
    "print(\"Максимальное количество колец:\", df['Rings'].min())\n",
    "print(\"Минимальное количество колец:\", df['Rings'].max())"
   ]
  },
  {
   "cell_type": "markdown",
   "metadata": {
    "colab_type": "text",
    "id": "TMcaJ735Wk51"
   },
   "source": [
    "Теперь стоит рассказать почему предсказание колец может являться задачей классификации. В нашем случае количество колец находится в четком диапазоне (0, 30) и является строго целочисленным. Благодаря чему каждое число количества колец можно считать отдельным классом."
   ]
  },
  {
   "cell_type": "markdown",
   "metadata": {
    "colab_type": "text",
    "id": "bvd7-ncmWk52"
   },
   "source": [
    "Есть смысл рассмотреть каждый параметр \"Пол\" отдельно из-за возможной дисперсии в зависимости от этого признака."
   ]
  },
  {
   "cell_type": "code",
   "execution_count": 8,
   "metadata": {
    "colab": {
     "base_uri": "https://localhost:8080/",
     "height": 539
    },
    "colab_type": "code",
    "id": "ZIIqD_4bWk53",
    "outputId": "4abe235b-46f7-445d-eec2-d960a753606a",
    "pycharm": {
     "is_executing": false
    },
    "scrolled": false
   },
   "outputs": [
    {
     "data": {
      "image/png": "[encoded data removed]",
      "text/plain": [
       "<Figure size 936x2520 with 8 Axes>"
      ]
     },
     "metadata": {},
     "output_type": "display_data"
    }
   ],
   "source": [
    "l = df.loc[:, 'Length':].columns\n",
    "number_of_rows=len(l)\n",
    "plt.figure(figsize=(13,35))\n",
    "for i in range(0,len(l)):\n",
    "    plt.subplot(number_of_rows + 1,4,i+1)\n",
    "    sns.set_style('whitegrid')\n",
    "    sns.boxplot(x=\"Sex\", y=l[i], data=df, orient='v')\n",
    "    plt.tight_layout()"
   ]
  },
  {
   "cell_type": "markdown",
   "metadata": {
    "colab_type": "text",
    "id": "xBALeCf0Wk56"
   },
   "source": [
    "Размеры самок обычно наибольшие в популяции, до них идут самцы (тк им нет необходимости создавать потомство), после самцов, напименьшими обычно является подрастающее поколение.\n",
    "\n",
    "Далее на основе интуитивных соображений.\n",
    "\n",
    "Преобразуем класс \"Пол\" в числовое значение (грубый аналог веса). Веса подбирались эксперементально, пытаясь достичь наибольшей кореляции пола к другим параметрам."
   ]
  },
  {
   "cell_type": "code",
   "execution_count": 9,
   "metadata": {
    "colab": {},
    "colab_type": "code",
    "id": "pWexyZzkWk56",
    "pycharm": {
     "is_executing": false
    }
   },
   "outputs": [],
   "source": [
    "df.Sex = df.Sex.transform(lambda x:{\"M\": 0.8,\"F\": 1,\"I\": 0}[x])"
   ]
  },
  {
   "cell_type": "code",
   "execution_count": 10,
   "metadata": {
    "colab": {
     "base_uri": "https://localhost:8080/",
     "height": 204
    },
    "colab_type": "code",
    "id": "JdK0SCHpWk59",
    "outputId": "eef553f5-43a8-49ab-8395-93a87bfc7149",
    "pycharm": {
     "is_executing": false
    }
   },
   "outputs": [
    {
     "data": {
      "text/html": [
       "<div>\n",
       "<style scoped>\n",
       "    .dataframe tbody tr th:only-of-type {\n",
       "        vertical-align: middle;\n",
       "    }\n",
       "\n",
       "    .dataframe tbody tr th {\n",
       "        vertical-align: top;\n",
       "    }\n",
       "\n",
       "    .dataframe thead th {\n",
       "        text-align: right;\n",
       "    }\n",
       "</style>\n",
       "<table border=\"1\" class=\"dataframe\">\n",
       "  <thead>\n",
       "    <tr style=\"text-align: right;\">\n",
       "      <th></th>\n",
       "      <th>Sex</th>\n",
       "      <th>Length</th>\n",
       "      <th>Diameter</th>\n",
       "      <th>Height</th>\n",
       "      <th>Whole</th>\n",
       "      <th>Shucked</th>\n",
       "      <th>Viscera</th>\n",
       "      <th>Shell</th>\n",
       "      <th>Rings</th>\n",
       "    </tr>\n",
       "  </thead>\n",
       "  <tbody>\n",
       "    <tr>\n",
       "      <th>0</th>\n",
       "      <td>0.8</td>\n",
       "      <td>0.455</td>\n",
       "      <td>0.365</td>\n",
       "      <td>0.095</td>\n",
       "      <td>0.5140</td>\n",
       "      <td>0.2245</td>\n",
       "      <td>0.1010</td>\n",
       "      <td>0.150</td>\n",
       "      <td>15</td>\n",
       "    </tr>\n",
       "    <tr>\n",
       "      <th>1</th>\n",
       "      <td>0.8</td>\n",
       "      <td>0.350</td>\n",
       "      <td>0.265</td>\n",
       "      <td>0.090</td>\n",
       "      <td>0.2255</td>\n",
       "      <td>0.0995</td>\n",
       "      <td>0.0485</td>\n",
       "      <td>0.070</td>\n",
       "      <td>7</td>\n",
       "    </tr>\n",
       "    <tr>\n",
       "      <th>2</th>\n",
       "      <td>1.0</td>\n",
       "      <td>0.530</td>\n",
       "      <td>0.420</td>\n",
       "      <td>0.135</td>\n",
       "      <td>0.6770</td>\n",
       "      <td>0.2565</td>\n",
       "      <td>0.1415</td>\n",
       "      <td>0.210</td>\n",
       "      <td>9</td>\n",
       "    </tr>\n",
       "    <tr>\n",
       "      <th>3</th>\n",
       "      <td>0.8</td>\n",
       "      <td>0.440</td>\n",
       "      <td>0.365</td>\n",
       "      <td>0.125</td>\n",
       "      <td>0.5160</td>\n",
       "      <td>0.2155</td>\n",
       "      <td>0.1140</td>\n",
       "      <td>0.155</td>\n",
       "      <td>10</td>\n",
       "    </tr>\n",
       "    <tr>\n",
       "      <th>4</th>\n",
       "      <td>0.0</td>\n",
       "      <td>0.330</td>\n",
       "      <td>0.255</td>\n",
       "      <td>0.080</td>\n",
       "      <td>0.2050</td>\n",
       "      <td>0.0895</td>\n",
       "      <td>0.0395</td>\n",
       "      <td>0.055</td>\n",
       "      <td>7</td>\n",
       "    </tr>\n",
       "  </tbody>\n",
       "</table>\n",
       "</div>"
      ],
      "text/plain": [
       "   Sex  Length  Diameter  Height   Whole  Shucked  Viscera  Shell  Rings\n",
       "0  0.8   0.455     0.365   0.095  0.5140   0.2245   0.1010  0.150     15\n",
       "1  0.8   0.350     0.265   0.090  0.2255   0.0995   0.0485  0.070      7\n",
       "2  1.0   0.530     0.420   0.135  0.6770   0.2565   0.1415  0.210      9\n",
       "3  0.8   0.440     0.365   0.125  0.5160   0.2155   0.1140  0.155     10\n",
       "4  0.0   0.330     0.255   0.080  0.2050   0.0895   0.0395  0.055      7"
      ]
     },
     "execution_count": 10,
     "metadata": {},
     "output_type": "execute_result"
    }
   ],
   "source": [
    "df.head()"
   ]
  },
  {
   "cell_type": "code",
   "execution_count": 11,
   "metadata": {
    "colab": {
     "base_uri": "https://localhost:8080/",
     "height": 558
    },
    "colab_type": "code",
    "id": "aaGHOugQWk6A",
    "outputId": "7f7cfabe-d6f6-4557-a226-c96dd4b623e3",
    "pycharm": {
     "is_executing": false
    }
   },
   "outputs": [
    {
     "data": {
      "text/plain": [
       "<matplotlib.axes._subplots.AxesSubplot at 0x18217273d60>"
      ]
     },
     "execution_count": 11,
     "metadata": {},
     "output_type": "execute_result"
    },
    {
     "data": {
      "image/png": "[encoded data removed]",
      "text/plain": [
       "<Figure size 864x648 with 2 Axes>"
      ]
     },
     "metadata": {},
     "output_type": "display_data"
    }
   ],
   "source": [
    "corrmat = df.corr()\n",
    "f, ax = plt.subplots(figsize=(12, 9))\n",
    "sns.heatmap(corrmat, vmax=.8, square=True, annot=True)"
   ]
  },
  {
   "cell_type": "code",
   "execution_count": null,
   "metadata": {
    "colab": {
     "base_uri": "https://localhost:8080/",
     "height": 873
    },
    "colab_type": "code",
    "id": "il2E1fntWk6D",
    "outputId": "67b322b4-8a83-41ff-98d0-5951d50e6359",
    "pycharm": {
     "is_executing": false
    }
   },
   "outputs": [],
   "source": [
    "sns.set()\n",
    "sns.pairplot(df, height = 6)\n",
    "plt.show();"
   ]
  },
  {
   "cell_type": "markdown",
   "metadata": {
    "colab_type": "text",
    "id": "xP8id4GbWk6G"
   },
   "source": [
    "Из графиков выше видно, что между почти всеми параметрами прослеживается кореляция. Так же оказалась верна наша догадка насчет пола и их числовых эквивалентов."
   ]
  },
  {
   "cell_type": "markdown",
   "metadata": {
    "colab_type": "text",
    "id": "-6sNDY_MWk6G"
   },
   "source": [
    "Попробуем избавить данные от избыточности.\n",
    "\n",
    "1. Диаметр, тк линейно зависит от длины\n",
    "2. Высота, тк линейно зависит от длины\n",
    "\n",
    "От остальных данных мы избавляться не будет тк это может напрямую повредить точности дальнейших моделей."
   ]
  },
  {
   "cell_type": "code",
   "execution_count": null,
   "metadata": {
    "colab": {},
    "colab_type": "code",
    "id": "jfhzY0FBWk6H",
    "pycharm": {
     "is_executing": false
    }
   },
   "outputs": [],
   "source": [
    "df.drop(['Diameter', 'Height'], axis=1, inplace=True)"
   ]
  },
  {
   "cell_type": "code",
   "execution_count": null,
   "metadata": {
    "colab": {
     "base_uri": "https://localhost:8080/",
     "height": 561
    },
    "colab_type": "code",
    "id": "AHv48tXhWk6J",
    "outputId": "56a867f3-f3c0-4dca-89d6-9aa81655a089",
    "pycharm": {
     "is_executing": false
    }
   },
   "outputs": [],
   "source": [
    "corrmat = df.corr()\n",
    "f, ax = plt.subplots(figsize=(12, 9))\n",
    "sns.heatmap(corrmat, vmax=.8, square=True, annot=True)"
   ]
  },
  {
   "cell_type": "markdown",
   "metadata": {
    "colab_type": "text",
    "id": "WgG-GcRUWk6M"
   },
   "source": [
    "Подготавливаем заранее данные для обучения. Мы разделяем данные на тренировочные и валидационные. \n",
    "\n",
    "И создаем новые фичи:\n",
    "    1. Полиномиальные\n",
    "    2. Нормализованные"
   ]
  },
  {
   "cell_type": "code",
   "execution_count": null,
   "metadata": {
    "colab": {},
    "colab_type": "code",
    "id": "nPLOUllZWk6N",
    "pycharm": {
     "is_executing": false
    }
   },
   "outputs": [],
   "source": [
    "X_data, Y_data = df.loc[:,:\"Shell\"], df[\"Rings\"]\n",
    "X_data['Whole_L'] = X_data['Whole'] / X_data['Length']\n",
    "X_train,  X_test,  y_train,  y_test = train_test_split(X_data, Y_data,  test_size= 0.20,  random_state= 42 )\n",
    "splited_data = [X_train, y_train, X_test, y_test]\n",
    "\n",
    "# данные, дополненные полиномами\n",
    "poly = PolynomialFeatures(degree = 2)\n",
    "poly_splited_data = [poly.fit_transform(X_train), y_train, poly.transform(X_test), y_test]\n",
    "poly_X_data = X_test.copy()\n",
    "poly_X_data = poly.transform(poly_X_data)\n",
    "\n",
    "# нормализованные данные\n",
    "scaler = StandardScaler()\n",
    "scaler.fit(X_train)\n",
    "norm_X_train = scaler.transform(X_train)\n",
    "norm_X_test = scaler.transform(X_test)\n",
    "norm_splited_data = [norm_X_train, y_train, norm_X_test, y_test]"
   ]
  },
  {
   "cell_type": "markdown",
   "metadata": {
    "colab_type": "text",
    "id": "Uohmrh2zWk6P"
   },
   "source": [
    "Для тестирования моделей мы будем округлять результат предсказаний до целого, после считать стандартные для задачи регрессии метрики.\n",
    "\n",
    "1. средняя ошибка\n",
    "2. средняя абсолютная ошибка\n",
    "3. средняя квадратичная ошибка"
   ]
  },
  {
   "cell_type": "markdown",
   "metadata": {
    "colab_type": "text",
    "id": "UJCFx1GuWk6Q"
   },
   "source": [
    "Пробуем линейную регрессию на оригинальных данных"
   ]
  },
  {
   "cell_type": "code",
   "execution_count": null,
   "metadata": {
    "colab": {
     "base_uri": "https://localhost:8080/",
     "height": 336
    },
    "colab_type": "code",
    "id": "J9pvodBeWk6Q",
    "outputId": "555f81e5-91b8-44de-8c54-6eefef03f5b2",
    "pycharm": {
     "is_executing": false
    },
    "scrolled": false
   },
   "outputs": [],
   "source": [
    "#model = load_from_file(\"models/1_linear_regression.hdf5\")\n",
    "model = LinearRegression()\n",
    "model.fit(X_train, y_train)\n",
    "calc_errors(model.predict(X_test).astype(int), y_test)"
   ]
  },
  {
   "cell_type": "code",
   "execution_count": null,
   "metadata": {},
   "outputs": [],
   "source": [
    "perm = PermutationImportance(model, random_state=1).fit(X_train, y_train)\n",
    "eli5.show_weights(perm, feature_names = X_train.columns.tolist())"
   ]
  },
  {
   "cell_type": "markdown",
   "metadata": {
    "colab_type": "text",
    "id": "AVst_TeyWk6T"
   },
   "source": [
    "Пробуем линейную регрессию на полиномиальных фичах"
   ]
  },
  {
   "cell_type": "code",
   "execution_count": null,
   "metadata": {
    "colab": {
     "base_uri": "https://localhost:8080/",
     "height": 336
    },
    "colab_type": "code",
    "id": "sl66NZCRWk6U",
    "outputId": "1b8da332-d1b5-403b-9929-49ae80f44741",
    "pycharm": {
     "is_executing": false
    }
   },
   "outputs": [],
   "source": [
    "#model = load_from_file(\"models/1_poly_regression.hdf5\")\n",
    "model = LinearRegression()\n",
    "model.fit(poly_splited_data[0],poly_splited_data[1])\n",
    "calc_errors(model.predict(poly_splited_data[2]).astype(int), y_test)"
   ]
  },
  {
   "cell_type": "markdown",
   "metadata": {
    "colab_type": "text",
    "id": "_wykfmaaWk6W"
   },
   "source": [
    "Использование полиномиальных фич улучшило результат. Есть смысл попробовать более сложные модели."
   ]
  },
  {
   "cell_type": "markdown",
   "metadata": {
    "colab_type": "text",
    "id": "A15J6DKxXHAy"
   },
   "source": [
    "Начнем с модели регрессии на основе k-ближайших соседей:"
   ]
  },
  {
   "cell_type": "code",
   "execution_count": null,
   "metadata": {
    "colab": {
     "base_uri": "https://localhost:8080/",
     "height": 339
    },
    "colab_type": "code",
    "id": "FIyM7IroWk6X",
    "outputId": "89c8d625-4a02-459e-dc71-19e3591e5967",
    "pycharm": {
     "is_executing": false
    }
   },
   "outputs": [],
   "source": [
    "#model = load_from_file(\"models/1_n_neighbors_8.hdf5\")\n",
    "model = KNeighborsRegressor(n_neighbors=8)\n",
    "model.fit(X_train, y_train)\n",
    "calc_errors(model.predict(X_test).astype(int), y_test)"
   ]
  },
  {
   "cell_type": "markdown",
   "metadata": {
    "colab_type": "text",
    "id": "xa9TA51nXNzO"
   },
   "source": [
    "Попробуем случайный лес:"
   ]
  },
  {
   "cell_type": "code",
   "execution_count": null,
   "metadata": {
    "colab": {
     "base_uri": "https://localhost:8080/",
     "height": 336
    },
    "colab_type": "code",
    "id": "6oHGulijWk6Z",
    "outputId": "f77f010a-6156-4d78-d5d7-bb706181a262",
    "pycharm": {
     "is_executing": false
    }
   },
   "outputs": [],
   "source": [
    "# model = load_from_file(\"models/2_voting_lr_rf.hdf5\")\n",
    "m2 = RandomForestRegressor(random_state = 42, n_estimators=300)\n",
    "m3 = LinearRegression()\n",
    "model = VotingRegressor(estimators=[('rf', m2), ('lr', m3)])\n",
    "model.fit(X_train, y_train)\n",
    "calc_errors(model.predict(X_test).astype(int), y_test)"
   ]
  },
  {
   "cell_type": "markdown",
   "metadata": {
    "colab_type": "text",
    "id": "OvtrzWUsXalP"
   },
   "source": [
    "Случайный лес показал результат лучше, чем k-ближайших соседей. Попробуем деревья решений. Для начала создадим функцию для тестирования деревьев с различными параметрами:"
   ]
  },
  {
   "cell_type": "code",
   "execution_count": null,
   "metadata": {
    "colab": {},
    "colab_type": "code",
    "id": "-dz7u6dg1Ah3"
   },
   "outputs": [],
   "source": [
    "def test_model(trainX, trainY, testX, testY, model, show_model=True, **kwargs):\n",
    "    if show_model:\n",
    "        print('Параметры модели:\\n', json.dumps(kwargs, indent=2), sep='')\n",
    "    m = model(**kwargs)\n",
    "    m.fit(trainX, trainY)  \n",
    "    print('Точность модели:', m.score(testX, testY))\n",
    "    print('MAE:', mean_absolute_error(m.predict(testX), testY))\n",
    "    print()\n",
    "    return m\n",
    "\n",
    "def show_graph(m):\n",
    "    dot_data = StringIO()\n",
    "    export_graphviz(m, out_file=dot_data,\n",
    "                filled=True, rounded=True,\n",
    "                special_characters=True)\n",
    "    graph = pydotplus.graph_from_dot_data(dot_data.getvalue())\n",
    "    return graph"
   ]
  },
  {
   "cell_type": "markdown",
   "metadata": {
    "colab_type": "text",
    "id": "zZiHDV9v1kcd"
   },
   "source": [
    "Протестируем деревья с различными параметрами:"
   ]
  },
  {
   "cell_type": "code",
   "execution_count": null,
   "metadata": {
    "colab": {
     "base_uri": "https://localhost:8080/",
     "height": 1000
    },
    "colab_type": "code",
    "id": "bGYBSFRjtcfv",
    "outputId": "1d21176e-984b-4825-9702-e7b0e89bd265"
   },
   "outputs": [],
   "source": [
    "test_model(X_train, y_train, X_test, y_test,\n",
    "           DecisionTreeClassifier, criterion='gini')\n",
    "\n",
    "test_model(X_train, y_train, X_test, y_test,\n",
    "           DecisionTreeClassifier, criterion='entropy')\n",
    "\n",
    "test_model(X_train, y_train, X_test, y_test,\n",
    "           DecisionTreeClassifier, splitter='best')\n",
    "\n",
    "test_model(X_train, y_train, X_test, y_test,\n",
    "           DecisionTreeClassifier, splitter='random')\n",
    "\n",
    "for depth in [1, 2, 4, 8, 10, 15, 20, 50, 100]:\n",
    "    test_model(X_train, y_train, X_test, y_test,\n",
    "               DecisionTreeClassifier, max_depth=depth)\n",
    "\n",
    "test_model(X_train, y_train, X_test, y_test,\n",
    "           DecisionTreeClassifier, max_features='auto')\n",
    "\n",
    "test_model(X_train, y_train, X_test, y_test,\n",
    "           DecisionTreeClassifier, max_features='sqrt')\n",
    "\n",
    "test_model(X_train, y_train, X_test, y_test,\n",
    "           DecisionTreeClassifier, max_features='log2')\n",
    "\n",
    "for leaf_nodes in [None, 3, 6, 10, 20, 50, 100]:\n",
    "    test_model(X_train, y_train, X_test, y_test,\n",
    "               DecisionTreeClassifier, max_leaf_nodes=leaf_nodes)"
   ]
  },
  {
   "cell_type": "markdown",
   "metadata": {
    "colab_type": "text",
    "id": "N_CDMkb-y5Ki"
   },
   "source": [
    "В зависимости от методов классификации были получены разные модели. По результатам тестирования можно сделать следующие выводы:\n",
    "1. У параметра criterion нет явного лидера, на использование entropy чаще дает результат с большей точностью;\n",
    "2. Параметр splitter также нет явного лидера, но параметр лучше показывает себя в случае с random;\n",
    "3. В случае параметра max_depth лучше использовать вариант глубины = 4;\n",
    "4. В случае параметра max_features выгоднее использовать log2;\n",
    "5. Параметр max_leaf_nodes дал лучший результат со занчением = 20;\n",
    "\n",
    "С учетом всех наблюдений прстроим модель с параметрами, давшими наилучший результат:"
   ]
  },
  {
   "cell_type": "code",
   "execution_count": null,
   "metadata": {
    "colab": {
     "base_uri": "https://localhost:8080/",
     "height": 269
    },
    "colab_type": "code",
    "id": "2M7JbdaA0kQY",
    "outputId": "8b3b712c-fe34-41de-d688-24b88315c241"
   },
   "outputs": [],
   "source": [
    "best_tree = test_model(X_train, y_train, X_test, y_test, \n",
    "                       DecisionTreeClassifier, splitter='best',\n",
    "                       max_depth=10, max_leaf_nodes=25)\n",
    "calc_errors(best_tree.predict(X_test).astype(int), y_test)\n",
    "# best_tree = show_graph(best_tree)\n",
    "# best_tree.write_png('best_tree.png')\n",
    "# Image(best_tree.create_png())"
   ]
  },
  {
   "cell_type": "code",
   "execution_count": null,
   "metadata": {},
   "outputs": [],
   "source": [
    "perm = PermutationImportance(best_tree, random_state=1).fit(X_train, y_train)\n",
    "eli5.show_weights(perm, feature_names = X_train.columns.tolist())"
   ]
  },
  {
   "cell_type": "markdown",
   "metadata": {
    "colab_type": "text",
    "id": "cJPc35cz1PeB"
   },
   "source": [
    "Точность деревьев крайне мала, поэтому, их использование считаем нецелесообразным."
   ]
  },
  {
   "cell_type": "markdown",
   "metadata": {
    "colab_type": "text",
    "id": "EY13tpCruGxU"
   },
   "source": [
    "Попробуем следующую модели, основанные на ансамблях:"
   ]
  },
  {
   "cell_type": "code",
   "execution_count": null,
   "metadata": {
    "colab": {
     "base_uri": "https://localhost:8080/",
     "height": 849
    },
    "colab_type": "code",
    "id": "W7BbON0wWk6e",
    "outputId": "220b6ecf-dcfa-4039-f89d-e456a3663886",
    "pycharm": {
     "is_executing": false
    },
    "scrolled": false
   },
   "outputs": [],
   "source": [
    "model = load_from_file(\"models/3_ensemble_40_times_15.hdf5\")\n",
    "print(\"Модель:\\n\", model)\n",
    "calc_errors(model.predict(X_test).astype(int), y_test)"
   ]
  },
  {
   "cell_type": "code",
   "execution_count": null,
   "metadata": {
    "colab": {
     "base_uri": "https://localhost:8080/",
     "height": 781
    },
    "colab_type": "code",
    "id": "WKeu1SbrWk6b",
    "outputId": "4471ea73-ea71-47a5-a2d9-ff469cec7066",
    "pycharm": {
     "is_executing": false
    },
    "scrolled": false
   },
   "outputs": [],
   "source": [
    "model = load_from_file(\"models/3_ensemble_30_times_10_15.hdf5\")\n",
    "print(\"Модель:\\n\", model)\n",
    "calc_errors(model.predict(X_test).astype(int), y_test)"
   ]
  },
  {
   "cell_type": "code",
   "execution_count": null,
   "metadata": {},
   "outputs": [],
   "source": [
    "perm = PermutationImportance(model, random_state=1).fit(X_train, y_train)\n",
    "eli5.show_weights(perm, feature_names = X_train.columns.tolist())"
   ]
  },
  {
   "cell_type": "markdown",
   "metadata": {
    "colab_type": "text",
    "id": "XpsUG4Ritcf3"
   },
   "source": [
    "На данный момент это наиболее качественная модель, чтобы убедиться в её качестве проверим на кроссвалидации:"
   ]
  },
  {
   "cell_type": "code",
   "execution_count": null,
   "metadata": {
    "colab": {
     "base_uri": "https://localhost:8080/",
     "height": 394
    },
    "colab_type": "code",
    "id": "egjuuWtktcf4",
    "outputId": "256f5e47-2066-4309-9204-af2854662d3b",
    "pycharm": {
     "is_executing": false,
     "name": "#%%\n"
    }
   },
   "outputs": [],
   "source": [
    "model = BaggingRegressor(base_estimator= MLPRegressor(hidden_layer_sizes=(10,15), solver='lbfgs', random_state=42, max_iter=4500), n_estimators=30, random_state=42)\n",
    "scores = cross_val_score(model, \n",
    "                         X_data, Y_data, cv=4, \n",
    "                         scoring=lambda m, x, y: mean_absolute_error(m.predict(x).astype(int), y),\n",
    "                         n_jobs=-1\n",
    "                        )\n",
    "print('Средние абсолютные ошибки полученные на кроссвалидации:', ', '.join(['{0:0.2f}'.format(i) for i in scores])[:-2])"
   ]
  },
  {
   "cell_type": "markdown",
   "metadata": {
    "colab_type": "text",
    "id": "ZGAAOkL6tcf6"
   },
   "source": [
    "Как мы видели ранее, данные меняются в зависимости от пола. \n",
    "Из-за этого есть смысл проанализировать данные отдельно и, при необходимости, посмотреть насколько изменяется качество моделей, \n",
    "если строить их для конкретного пола.\n",
    "\n",
    "\n",
    "Попробуем проанализировать данные по каждому полу отдельно."
   ]
  },
  {
   "cell_type": "code",
   "execution_count": null,
   "metadata": {
    "colab": {},
    "colab_type": "code",
    "id": "_xmlRONutcf7",
    "pycharm": {
     "is_executing": false
    }
   },
   "outputs": [],
   "source": [
    "model = BaggingRegressor(base_estimator= MLPRegressor(hidden_layer_sizes=(10,15), solver='lbfgs', random_state=42, max_iter=4500), n_estimators=30, random_state=42)\n",
    "scores = cross_val_score(model, \n",
    "                         X_data, Y_data, cv=4, \n",
    "                         scoring=lambda m, x, y: mean_absolute_error(m.predict(x).astype(int), y),\n",
    "                         n_jobs=-1\n",
    "                        )\n",
    "print('Средние абсолютные ошибки полученные на кроссвалидации:', ', '.join(['{0:0.2f}'.format(i) for i in scores])[:-2])"
   ]
  },
  {
   "cell_type": "markdown",
   "metadata": {
    "colab_type": "text",
    "id": "neX4xXSJWk6g"
   },
   "source": [
    "Как мы видели ранее, данные меняются в зависимости от пола. \n",
    "Из-за этого есть смысл проанализировать данные отдельно и, при необходимости, посмотреть насколько изменяется качество моделей, \n",
    "если строить их для конкретного пола.\n",
    "\n",
    "\n",
    "Попробуем проанализировать данные по каждому полу отдельно."
   ]
  },
  {
   "cell_type": "code",
   "execution_count": null,
   "metadata": {
    "colab": {},
    "colab_type": "code",
    "id": "GGvG7-akWk6h",
    "outputId": "ba146532-55ad-4048-c9c0-d9942e8d2631",
    "pycharm": {
     "is_executing": false
    }
   },
   "outputs": [],
   "source": [
    "df = pd.read_csv(data_path)\n",
    "df_M = df[df['Sex']==\"M\"].copy()\n",
    "df_F = df[df['Sex']==\"F\"].copy()\n",
    "df_I = df[df['Sex']==\"I\"].copy()\n",
    "\n",
    "df_M.drop('Sex', axis=1, inplace=True)\n",
    "df_F.drop('Sex', axis=1, inplace=True)\n",
    "df_I.drop('Sex', axis=1, inplace=True)"
   ]
  },
  {
   "cell_type": "code",
   "execution_count": null,
   "metadata": {
    "colab": {},
    "colab_type": "code",
    "id": "PlSth17ZWk6j",
    "pycharm": {
     "is_executing": false
    },
    "scrolled": false
   },
   "outputs": [],
   "source": [
    "corrmat = df_M.corr()\n",
    "f, ax = plt.subplots(figsize=(13, 10))\n",
    "sns.heatmap(corrmat, vmax=.8, square=True, annot=True)"
   ]
  },
  {
   "cell_type": "code",
   "execution_count": null,
   "metadata": {
    "colab": {},
    "colab_type": "code",
    "id": "3Wyfzu_QWk6m",
    "pycharm": {
     "is_executing": false
    }
   },
   "outputs": [],
   "source": [
    "df_M.drop(['Diameter', 'Height'], axis=1, inplace=True)"
   ]
  },
  {
   "cell_type": "code",
   "execution_count": null,
   "metadata": {
    "colab": {},
    "colab_type": "code",
    "id": "BbKxDt5qWk6p",
    "pycharm": {
     "is_executing": false
    }
   },
   "outputs": [],
   "source": [
    "corrmat = df_F.corr()\n",
    "f, ax = plt.subplots(figsize=(12, 9))\n",
    "sns.heatmap(corrmat, vmax=.8, square=True, annot=True)"
   ]
  },
  {
   "cell_type": "markdown",
   "metadata": {
    "colab_type": "text",
    "id": "WDTMBhLDWk6r"
   },
   "source": [
    "Как видно, параметр Shucked(скорлупа) почти не влияет на возраст и может быть удалён.\n",
    "Также, в данном случае, мы не удаляем высоту, т.к. она мало корелирует с другими параметрами и скорее всего предоставляет много информации."
   ]
  },
  {
   "cell_type": "code",
   "execution_count": null,
   "metadata": {
    "colab": {},
    "colab_type": "code",
    "id": "LX038ojRWk6r",
    "pycharm": {
     "is_executing": false
    }
   },
   "outputs": [],
   "source": [
    "df_F.drop(['Diameter', 'Shucked'], axis=1, inplace=True)"
   ]
  },
  {
   "cell_type": "code",
   "execution_count": null,
   "metadata": {
    "colab": {},
    "colab_type": "code",
    "id": "YHp70xbwWk6u",
    "pycharm": {
     "is_executing": false
    },
    "scrolled": false
   },
   "outputs": [],
   "source": [
    "corrmat = df_I.corr()\n",
    "f, ax = plt.subplots(figsize=(12, 9))\n",
    "sns.heatmap(corrmat, vmax=.8, square=True, annot=True)"
   ]
  },
  {
   "cell_type": "code",
   "execution_count": null,
   "metadata": {
    "colab": {},
    "colab_type": "code",
    "id": "rr49seDyWk6w",
    "pycharm": {
     "is_executing": false
    }
   },
   "outputs": [],
   "source": [
    "df_I.drop(['Length', 'Diameter'], axis=1, inplace=True)"
   ]
  },
  {
   "cell_type": "markdown",
   "metadata": {
    "colab_type": "text",
    "id": "9Y_2MXpKWk6z"
   },
   "source": [
    "У разных полов различаются корреляции.\n",
    "Попробуем построить модели для каждого пола по отдельности."
   ]
  },
  {
   "cell_type": "code",
   "execution_count": null,
   "metadata": {
    "colab": {},
    "colab_type": "code",
    "id": "JuuA4n1FWk62",
    "pycharm": {
     "is_executing": false
    }
   },
   "outputs": [],
   "source": [
    "X_data_M, Y_data_M = df_M.loc[:,:\"Shell\"], df_M[\"Rings\"]\n",
    "X_train_M,  X_test_M,  y_train_M,  y_test_M =  train_test_split(X_data_M, Y_data_M,  test_size= 0.20,  random_state= 42 )\n",
    "splitted_data_M = [X_train_M,  y_train_M, X_test_M,  y_test_M]\n",
    "\n",
    "X_data_F, Y_data_F = df_F.loc[:,:\"Shell\"], df_F[\"Rings\"]\n",
    "X_train_F,  X_test_F,  y_train_F,  y_test_F =  train_test_split(X_data_F, Y_data_F,  test_size= 0.20,  random_state= 42 )\n",
    "splitted_data_F = [X_train_F,  y_train_F, X_test_F,  y_test_F]\n",
    "\n",
    "X_data_I, Y_data_I = df_I.loc[:,:\"Shell\"], df_I[\"Rings\"]\n",
    "X_train_I,  X_test_I,  y_train_I,  y_test_I =  train_test_split(X_data_I, Y_data_I,  test_size= 0.20,  random_state= 42 )\n",
    "splitted_data_I = [X_train_I,  y_train_I, X_test_I,  y_test_I]"
   ]
  },
  {
   "cell_type": "code",
   "execution_count": null,
   "metadata": {
    "colab": {},
    "colab_type": "code",
    "id": "tR4lW1k8Wk68",
    "pycharm": {
     "is_executing": false
    }
   },
   "outputs": [],
   "source": [
    "test_model_F(*splitted_data_M, LinearRegression, save_model = False)\n",
    "test_model_F(*splitted_data_F, LinearRegression, save_model = False)\n",
    "test_model_F(*splitted_data_I, LinearRegression, save_model = False)"
   ]
  },
  {
   "cell_type": "markdown",
   "metadata": {
    "colab_type": "text",
    "id": "sUtSuJ2mWk7C"
   },
   "source": [
    "Как мы видим:\n",
    "\n",
    "1. С предсказанием возраста у младенцев неплохо справляется и обычная регрессия\n",
    "2. Наиболее сложными для предсказания оказались самки\n",
    "\n",
    "Посмотрим на результаты более детально:"
   ]
  },
  {
   "cell_type": "markdown",
   "metadata": {
    "colab_type": "text",
    "id": "wQWS9EycZ-5k"
   },
   "source": [
    "Самцы:"
   ]
  },
  {
   "cell_type": "code",
   "execution_count": null,
   "metadata": {
    "colab": {},
    "colab_type": "code",
    "id": "2BF8pS3bWk7D",
    "pycharm": {
     "is_executing": false
    }
   },
   "outputs": [],
   "source": [
    "model = LinearRegression()\n",
    "model.fit(X_train_M, y_train_M)\n",
    "calc_errors(model.predict(X_test_M).astype(int), y_test_M)"
   ]
  },
  {
   "cell_type": "code",
   "execution_count": null,
   "metadata": {},
   "outputs": [],
   "source": [
    "perm = PermutationImportance(model, random_state=1).fit(X_train_M, y_train_M)\n",
    "eli5.show_weights(perm, feature_names = X_train_M.columns.tolist())"
   ]
  },
  {
   "cell_type": "markdown",
   "metadata": {
    "colab_type": "text",
    "id": "aeFiODvFaBVh"
   },
   "source": [
    "Самки:"
   ]
  },
  {
   "cell_type": "code",
   "execution_count": null,
   "metadata": {
    "colab": {},
    "colab_type": "code",
    "id": "7ffCKactWk7I",
    "pycharm": {
     "is_executing": false
    }
   },
   "outputs": [],
   "source": [
    "model = LinearRegression()\n",
    "model.fit(X_train_F, y_train_F)\n",
    "calc_errors(model.predict(X_test_F).astype(int), y_test_F)"
   ]
  },
  {
   "cell_type": "code",
   "execution_count": null,
   "metadata": {},
   "outputs": [],
   "source": [
    "perm = PermutationImportance(model, random_state=1).fit(X_train_F, y_train_F)\n",
    "eli5.show_weights(perm, feature_names = X_train_F.columns.tolist())"
   ]
  },
  {
   "cell_type": "markdown",
   "metadata": {
    "colab_type": "text",
    "id": "h8tGpRlGaClC"
   },
   "source": [
    "Младенцы:"
   ]
  },
  {
   "cell_type": "code",
   "execution_count": null,
   "metadata": {
    "colab": {},
    "colab_type": "code",
    "id": "JV8sugQPWk7O",
    "pycharm": {
     "is_executing": false
    },
    "scrolled": true
   },
   "outputs": [],
   "source": [
    "model = LinearRegression()\n",
    "model.fit(X_train_I, y_train_I)\n",
    "predicted = model.predict(X_test_I).astype(int)\n",
    "calc_errors(predicted, y_test_I)"
   ]
  },
  {
   "cell_type": "code",
   "execution_count": null,
   "metadata": {},
   "outputs": [],
   "source": [
    "perm = PermutationImportance(model, random_state=1).fit(X_train_I, y_train_I)\n",
    "eli5.show_weights(perm, feature_names = X_train_I.columns.tolist())"
   ]
  },
  {
   "cell_type": "markdown",
   "metadata": {
    "colab_type": "text",
    "id": "8t-mx1h_Wk7T"
   },
   "source": [
    "Для представления категориального параметра \"Пол\" мы уже попробовали грубый аналог веса и раздельние данных. Есть также смысл представить пол с помощью One-Hot Encoding."
   ]
  },
  {
   "cell_type": "code",
   "execution_count": null,
   "metadata": {
    "colab": {},
    "colab_type": "code",
    "id": "RMV9UQTQWk7U",
    "pycharm": {
     "is_executing": false
    }
   },
   "outputs": [],
   "source": [
    "df = pd.read_csv(data_path)\n",
    "one_hot = pd.get_dummies(df['Sex'])\n",
    "df = df.drop('Sex',axis = 1)\n",
    "# Join the encoded df\n",
    "df = df.join(one_hot)"
   ]
  },
  {
   "cell_type": "code",
   "execution_count": null,
   "metadata": {
    "colab": {},
    "colab_type": "code",
    "id": "o_aseA_9Wk7a",
    "pycharm": {
     "is_executing": false
    }
   },
   "outputs": [],
   "source": [
    "df.head()"
   ]
  },
  {
   "cell_type": "markdown",
   "metadata": {
    "colab_type": "text",
    "id": "z_qDtg8aWk7f"
   },
   "source": [
    "Теперь у нас есть 3 биномиальных предиктора F, I, M"
   ]
  },
  {
   "cell_type": "code",
   "execution_count": null,
   "metadata": {
    "colab": {},
    "colab_type": "code",
    "id": "Z-6L9NTNWk7f",
    "pycharm": {
     "is_executing": false
    }
   },
   "outputs": [],
   "source": [
    "corrmat = df.corr()\n",
    "f, ax = plt.subplots(figsize=(12, 9))\n",
    "sns.heatmap(corrmat, vmax=.8, square=True, annot=True)"
   ]
  },
  {
   "cell_type": "markdown",
   "metadata": {
    "colab_type": "text",
    "id": "cH8EjK_3Wk7i"
   },
   "source": [
    "Учтем те параметры которые мы удаляли для самок."
   ]
  },
  {
   "cell_type": "code",
   "execution_count": null,
   "metadata": {
    "colab": {},
    "colab_type": "code",
    "id": "3HW3VszNWk7i",
    "pycharm": {
     "is_executing": false
    }
   },
   "outputs": [],
   "source": [
    "df.drop(['Diameter'], axis=1, inplace=True)"
   ]
  },
  {
   "cell_type": "markdown",
   "metadata": {
    "colab_type": "text",
    "id": "RizdjFtxWk7l"
   },
   "source": [
    "Подготовим данные для тренировки (анлогично тому как мы делали до этого)"
   ]
  },
  {
   "cell_type": "code",
   "execution_count": null,
   "metadata": {},
   "outputs": [],
   "source": [
    "X_data, Y_data = df.drop(['Rings'], axis=1), df[\"Rings\"]\n",
    "\n",
    "\n",
    "X_train,  X_test,  y_train,  y_test = train_test_split(X_data, Y_data,  test_size= 0.20,  random_state= 42 )"
   ]
  },
  {
   "cell_type": "markdown",
   "metadata": {
    "colab_type": "text",
    "id": "eS5_cYVuWk7n"
   },
   "source": [
    "Далее протестируем изменение качества предсказания на нескольких моделях:"
   ]
  },
  {
   "cell_type": "markdown",
   "metadata": {
    "colab_type": "text",
    "id": "x4BfX0uFanV9"
   },
   "source": [
    "Линейная регрессия на оригинальных данных:"
   ]
  },
  {
   "cell_type": "code",
   "execution_count": null,
   "metadata": {},
   "outputs": [],
   "source": [
    "model = LinearRegression()\n",
    "model.fit(X_train, y_train)\n",
    "calc_errors(model.predict(X_test).astype(int), y_test)"
   ]
  },
  {
   "cell_type": "code",
   "execution_count": null,
   "metadata": {},
   "outputs": [],
   "source": [
    "perm = PermutationImportance(model, random_state=1).fit(X_train, y_train)\n",
    "eli5.show_weights(perm, feature_names = X_train.columns.tolist())"
   ]
  },
  {
   "cell_type": "markdown",
   "metadata": {},
   "source": [
    "Как мы видим модель отдает предпочтение сгенерированным фичам"
   ]
  },
  {
   "cell_type": "markdown",
   "metadata": {
    "colab_type": "text",
    "id": "xz63rm4eawI5"
   },
   "source": [
    "Случайный лес:"
   ]
  },
  {
   "cell_type": "code",
   "execution_count": null,
   "metadata": {},
   "outputs": [],
   "source": [
    "m2 = RandomForestRegressor(random_state = 42, n_estimators=300)\n",
    "m3 = LinearRegression()\n",
    "model = VotingRegressor(estimators=[('rf', m2), ('lr', m3)])\n",
    "model.fit(X_train, y_train)\n",
    "calc_errors(model.predict(X_test).astype(int), y_test)"
   ]
  },
  {
   "cell_type": "code",
   "execution_count": null,
   "metadata": {},
   "outputs": [],
   "source": [
    "perm = PermutationImportance(model, random_state=1).fit(X_train, y_train)\n",
    "eli5.show_weights(perm, feature_names = X_train.columns.tolist())"
   ]
  },
  {
   "cell_type": "markdown",
   "metadata": {
    "colab_type": "text",
    "id": "hlMDjXVpWk7t"
   },
   "source": [
    "По результатам тестирования можно увидеть, что значения оказались хуже, чем на аналогичных моделях при использовнии грубого коэффициента или разделении данных.\n",
    "Дальнейшие пробы One-Hot Encoding выглядят нецелесообразными."
   ]
  },
  {
   "cell_type": "markdown",
   "metadata": {},
   "source": [
    "Далее попробуем генерировать фичи самостоятельно"
   ]
  },
  {
   "cell_type": "code",
   "execution_count": null,
   "metadata": {
    "colab": {},
    "colab_type": "code",
    "id": "CZCOGcJ1Wk7l",
    "pycharm": {
     "is_executing": false
    }
   },
   "outputs": [],
   "source": [
    "df = pd.read_csv(data_path)\n",
    "one_hot = pd.get_dummies(df['Sex'])\n",
    "df = df.drop('Sex',axis = 1)\n",
    "# Join the encoded df\n",
    "df = df.join(one_hot)\n",
    "\n",
    "df['Whole_SH'] = df['Whole'] / df['Shucked']\n",
    "df['Whole_L'] = df['Whole'] / df['Length']\n",
    "df['Whole_shell'] = df['Whole'] / df['Shell']\n",
    "df['Whole_Viscera'] = df['Whole'] * df['Viscera']\n",
    "df['lh'] = df['Length'] * df['Height']\n",
    "df['lhd'] = df['lh'] * df['Diameter']\n",
    "df['Shucked_F'] = df['Shucked'] * df['F']\n",
    "df['Shucked_M'] = df['Shucked'] * df['M']\n",
    "df['Shell_M'] = df['Shell'] * df['M']\n",
    "df['Whole_SH_lh'] = df['Whole_SH'] * df['lh']\n",
    "df.drop(['Diameter', 'M', 'F', 'Whole'], axis=1, inplace=True)\n",
    "\n",
    "# sns.set()\n",
    "# sns.pairplot(df, height = 6)\n",
    "# plt.show()\n",
    "\n",
    "X_data, Y_data = df.drop(['Rings'], axis=1), df[\"Rings\"]\n",
    "X_train,  X_test,  y_train,  y_test = train_test_split(X_data, Y_data,  test_size= 0.20,  random_state= 42 )"
   ]
  },
  {
   "cell_type": "code",
   "execution_count": null,
   "metadata": {},
   "outputs": [],
   "source": [
    "corrmat = df.corr()\n",
    "f, ax = plt.subplots(figsize=(12, 9))\n",
    "sns.heatmap(corrmat, vmax=.8, square=True, annot=True)"
   ]
  },
  {
   "cell_type": "markdown",
   "metadata": {
    "colab_type": "text",
    "id": "eS5_cYVuWk7n"
   },
   "source": [
    "Далее протестируем изменение качества предсказания на нескольких моделях:"
   ]
  },
  {
   "cell_type": "markdown",
   "metadata": {
    "colab_type": "text",
    "id": "x4BfX0uFanV9"
   },
   "source": [
    "Линейная регрессия на оригинальных данных:"
   ]
  },
  {
   "cell_type": "code",
   "execution_count": null,
   "metadata": {
    "colab": {},
    "colab_type": "code",
    "id": "qh5QohlhWk7o",
    "pycharm": {
     "is_executing": false
    }
   },
   "outputs": [],
   "source": [
    "model = LinearRegression()\n",
    "model.fit(X_train, y_train)\n",
    "calc_errors(model.predict(X_test).astype(int), y_test)"
   ]
  },
  {
   "cell_type": "code",
   "execution_count": null,
   "metadata": {},
   "outputs": [],
   "source": [
    "perm = PermutationImportance(model, random_state=1).fit(X_train, y_train)\n",
    "eli5.show_weights(perm, feature_names = X_train.columns.tolist())"
   ]
  },
  {
   "cell_type": "code",
   "execution_count": null,
   "metadata": {},
   "outputs": [],
   "source": [
    "scores = cross_val_score(model, \n",
    "                         X_data, Y_data, cv=20, \n",
    "                         scoring=lambda m, x, y: mean_absolute_error(m.predict(x).astype(int), y),\n",
    "                         n_jobs=-1\n",
    "                        )\n",
    "print('Средние абсолютные ошибки полученные на кроссвалидации:', ', '.join(['{0:0.2f}'.format(i) for i in scores])[:-2])"
   ]
  },
  {
   "cell_type": "markdown",
   "metadata": {
    "colab_type": "text",
    "id": "xz63rm4eawI5"
   },
   "source": [
    "Случайный лес:"
   ]
  },
  {
   "cell_type": "code",
   "execution_count": null,
   "metadata": {
    "colab": {},
    "colab_type": "code",
    "id": "CRG2AWdgWk7r",
    "pycharm": {
     "is_executing": false
    }
   },
   "outputs": [],
   "source": [
    "m2 = RandomForestRegressor(random_state = 42, n_estimators=300)\n",
    "m3 = LinearRegression()\n",
    "model = VotingRegressor(estimators=[('rf', m2), ('lr', m3)])\n",
    "model.fit(X_train, y_train)\n",
    "calc_errors(model.predict(X_test).astype(int), y_test)"
   ]
  },
  {
   "cell_type": "code",
   "execution_count": null,
   "metadata": {},
   "outputs": [],
   "source": [
    "scores = cross_val_score(model, \n",
    "                         X_data, Y_data, cv=20, \n",
    "                         scoring=lambda m, x, y: mean_absolute_error(m.predict(x).astype(int), y),\n",
    "                         n_jobs=-1\n",
    "                        )\n",
    "print('Средние абсолютные ошибки полученные на кроссвалидации:', ', '.join(['{0:0.2f}'.format(i) for i in scores])[:-2])"
   ]
  },
  {
   "cell_type": "code",
   "execution_count": null,
   "metadata": {},
   "outputs": [],
   "source": [
    "perm = PermutationImportance(model, random_state=1).fit(X_train, y_train)\n",
    "eli5.show_weights(perm, feature_names = X_train.columns.tolist())"
   ]
  },
  {
   "cell_type": "markdown",
   "metadata": {},
   "source": [
    "Результаты при генерации фич выглядят впечатляюще."
   ]
  }
 ],
 "metadata": {
  "colab": {
   "collapsed_sections": [],
   "name": "abalone.ipynb",
   "provenance": [],
   "toc_visible": true
  },
  "kernelspec": {
   "display_name": "Python 3",
   "language": "python",
   "name": "python3"
  },
  "language_info": {
   "codemirror_mode": {
    "name": "ipython",
    "version": 3
   },
   "file_extension": ".py",
   "mimetype": "text/x-python",
   "name": "python",
   "nbconvert_exporter": "python",
   "pygments_lexer": "ipython3",
   "version": "3.8.1"
  },
  "pycharm": {
   "stem_cell": {
    "cell_type": "raw",
    "metadata": {
     "collapsed": false
    },
    "source": []
   }
  }
 },
 "nbformat": 4,
 "nbformat_minor": 1
}
