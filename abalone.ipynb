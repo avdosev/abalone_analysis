{
 "cells": [
  {
   "cell_type": "markdown",
   "metadata": {
    "colab_type": "text",
    "id": "xwqOmpAMWk5R"
   },
   "source": [
    "### Прогнозирование возраста морского ушка на основе физических измерений.\n",
    "\n",
    "Возраст морского ушка определяется путем разрезания оболочки через конус, ее окрашивания и подсчета количества колец через микроскоп - скучная и трудоемкая задача.  Другие измерения, которые легче получить, используются для прогнозирования возраста.  Для решения этой задачи может потребоваться дополнительная информация, например, о погодных условиях и местоположении (отсюда и наличие продовольствия).\n",
    "\n",
    "\n",
    "Дано имя атрибута, тип атрибута, единица измерения и\n",
    "краткое описание.\n",
    "\n",
    "| Название | Тип данных | Измер. | Описание |\n",
    "|---------|----------|------------|----|\n",
    "| Пол | именной | - | M, F и I (младенец)\n",
    "| Длина | непрерывная | мм. | Самое длинное измерение раковины\n",
    "| Диаметр | непрерывного | мм. | перпендикулярно длине\n",
    "| Высота | непрерывного | мм. | с мясом в скорлупе\n",
    "| Общий вес | непрерывного | граммы | всего ушка\n",
    "| Перемешанный вес | непрерывного | граммы | веса мяса\n",
    "| Вес внутренностей | непрерывный | граммы | веса кишечника (после кровотечения)\n",
    "| Вес скорлупы | непрерывный | граммы  | после сушки\n",
    "| Кольца | целые | - | +1,5 дает возраст в годах\n",
    "\n",
    "Количество колец - это значение для прогнозирования: либо\n",
    "как непрерывное значение или как проблема классификации. \n",
    "Позже мы рассмотрим почему предсказание колец можно также считать задачей классификации."
   ]
  },
  {
   "cell_type": "code",
   "execution_count": 3,
   "metadata": {
    "colab": {},
    "colab_type": "code",
    "id": "Vu9ryF5pWk5U",
    "pycharm": {
     "is_executing": false
    }
   },
   "outputs": [
    {
     "ename": "ModuleNotFoundError",
     "evalue": "No module named 'seaborn'",
     "output_type": "error",
     "traceback": [
      "\u001b[1;31m---------------------------------------------------------------------------\u001b[0m",
      "\u001b[1;31mModuleNotFoundError\u001b[0m                       Traceback (most recent call last)",
      "\u001b[1;32m<ipython-input-3-4abc15965f42>\u001b[0m in \u001b[0;36m<module>\u001b[1;34m\u001b[0m\n\u001b[0;32m      1\u001b[0m \u001b[1;32mimport\u001b[0m \u001b[0mpandas\u001b[0m \u001b[1;32mas\u001b[0m \u001b[0mpd\u001b[0m\u001b[1;33m\u001b[0m\u001b[1;33m\u001b[0m\u001b[0m\n\u001b[0;32m      2\u001b[0m \u001b[1;32mimport\u001b[0m \u001b[0mmatplotlib\u001b[0m\u001b[1;33m.\u001b[0m\u001b[0mpyplot\u001b[0m \u001b[1;32mas\u001b[0m \u001b[0mplt\u001b[0m\u001b[1;33m\u001b[0m\u001b[1;33m\u001b[0m\u001b[0m\n\u001b[1;32m----> 3\u001b[1;33m \u001b[1;32mimport\u001b[0m \u001b[0mseaborn\u001b[0m \u001b[1;32mas\u001b[0m \u001b[0msns\u001b[0m\u001b[1;33m\u001b[0m\u001b[1;33m\u001b[0m\u001b[0m\n\u001b[0m\u001b[0;32m      4\u001b[0m \u001b[1;32mimport\u001b[0m \u001b[0mnumpy\u001b[0m \u001b[1;32mas\u001b[0m \u001b[0mnp\u001b[0m\u001b[1;33m\u001b[0m\u001b[1;33m\u001b[0m\u001b[0m\n\u001b[0;32m      5\u001b[0m \u001b[1;33m\u001b[0m\u001b[0m\n",
      "\u001b[1;31mModuleNotFoundError\u001b[0m: No module named 'seaborn'"
     ]
    }
   ],
   "source": [
    "import pandas as pd\n",
    "import matplotlib.pyplot as plt\n",
    "import seaborn as sns\n",
    "import numpy as np\n",
    "\n",
    "# from sklearn import курсач\n",
    "from sklearn.linear_model import LinearRegression, LogisticRegression\n",
    "from sklearn.preprocessing import PolynomialFeatures, StandardScaler\n",
    "from sklearn.svm import SVC, SVR, LinearSVR, NuSVR\n",
    "from sklearn.model_selection import train_test_split\n",
    "from sklearn.metrics import *\n",
    "from sklearn.ensemble import *\n",
    "from sklearn.neural_network import MLPRegressor\n",
    "from sklearn.tree import *\n",
    "from sklearn.neighbors import KNeighborsRegressor\n",
    "from sklearn.kernel_ridge import KernelRidge\n",
    "from sklearn.model_selection import cross_val_score\n",
    "\n",
    "import pickle\n",
    "\n",
    "import tensorflow as tf\n",
    "import tensorflow.keras as keras\n",
    "\n",
    "import itertools\n",
    "from datetime import datetime\n",
    "import os\n",
    "\n",
    "from util_funcs import *"
   ]
  },
  {
   "cell_type": "code",
   "execution_count": null,
   "metadata": {
    "colab": {},
    "colab_type": "code",
    "id": "dqqimYaRWk5d",
    "pycharm": {
     "is_executing": false
    }
   },
   "outputs": [],
   "source": [
    "data_path = './data/abalone.csv'"
   ]
  },
  {
   "cell_type": "code",
   "execution_count": null,
   "metadata": {
    "colab": {},
    "colab_type": "code",
    "id": "NvpDNQFCWk5l",
    "pycharm": {
     "is_executing": false
    }
   },
   "outputs": [],
   "source": [
    "df = pd.read_csv(data_path)"
   ]
  },
  {
   "cell_type": "code",
   "execution_count": null,
   "metadata": {
    "colab": {},
    "colab_type": "code",
    "id": "luGYUeY8Wk5o",
    "outputId": "2b1901a5-e974-498e-dc76-3d4cd54997f9",
    "pycharm": {
     "is_executing": false
    }
   },
   "outputs": [],
   "source": [
    "df.head()"
   ]
  },
  {
   "cell_type": "code",
   "execution_count": null,
   "metadata": {
    "colab": {},
    "colab_type": "code",
    "id": "5ZgYTKtyWk5s",
    "pycharm": {
     "is_executing": false
    },
    "scrolled": false
   },
   "outputs": [],
   "source": [
    "def show_boxplot(df):\n",
    "    l = df.loc[:, 'Length':].columns.values\n",
    "    number_of_columns=9\n",
    "    number_of_rows = len(l)-1/number_of_columns\n",
    "    plt.figure(figsize=(number_of_columns,5*number_of_rows))\n",
    "    for i in range(0,len(l)):\n",
    "        plt.subplot(number_of_rows + 1,number_of_columns,i+1)\n",
    "        sns.set_style('whitegrid')\n",
    "        sns.boxplot(df[l[i]],color='green',orient='v')\n",
    "        plt.tight_layout()"
   ]
  },
  {
   "cell_type": "code",
   "execution_count": null,
   "metadata": {
    "colab": {},
    "colab_type": "code",
    "id": "kiHvk9x3Wk5v",
    "outputId": "1607ff7e-3ae7-48b8-9489-efcae1a0e213",
    "pycharm": {
     "is_executing": false
    },
    "scrolled": false
   },
   "outputs": [],
   "source": [
    "show_boxplot(df)"
   ]
  },
  {
   "cell_type": "code",
   "execution_count": null,
   "metadata": {
    "colab": {},
    "colab_type": "code",
    "id": "CLL4jAePWk5y",
    "outputId": "e2522774-2d1f-40c9-edbd-58c5d03a1646",
    "pycharm": {
     "is_executing": false
    }
   },
   "outputs": [],
   "source": [
    "print(\"Максимальное количество колец:\", df['Rings'].min())\n",
    "print(\"Минимальное количество колец:\", df['Rings'].max())"
   ]
  },
  {
   "cell_type": "markdown",
   "metadata": {
    "colab_type": "text",
    "id": "TMcaJ735Wk51"
   },
   "source": [
    "Теперь стоит рассказать почему предсказание колец может являться задачей классификации. В нашем случае количество колец находится в четком диапазоне (0, 30) и является строго целочисленным. Благодаря чему каждое число количества колец можно считать отдельным классом."
   ]
  },
  {
   "cell_type": "markdown",
   "metadata": {
    "colab_type": "text",
    "id": "bvd7-ncmWk52"
   },
   "source": [
    "Есть смысл рассмотреть каждый параметр \"Пол\" отдельно из-за возможной дисперсии в зависимости от этого признака."
   ]
  },
  {
   "cell_type": "code",
   "execution_count": null,
   "metadata": {
    "colab": {},
    "colab_type": "code",
    "id": "ZIIqD_4bWk53",
    "outputId": "a0603ff4-1308-47a2-e936-d37aeaa3803e",
    "pycharm": {
     "is_executing": false
    },
    "scrolled": false
   },
   "outputs": [],
   "source": [
    "l = df.loc[:, 'Length':].columns\n",
    "number_of_rows=len(l)\n",
    "plt.figure(figsize=(13,35))\n",
    "for i in range(0,len(l)):\n",
    "    plt.subplot(number_of_rows + 1,4,i+1)\n",
    "    sns.set_style('whitegrid')\n",
    "    sns.boxplot(x=\"Sex\", y=l[i], data=df, orient='v')\n",
    "    plt.tight_layout()"
   ]
  },
  {
   "cell_type": "markdown",
   "metadata": {
    "colab_type": "text",
    "id": "xBALeCf0Wk56"
   },
   "source": [
    "Размеры самок обычно наибольшие в популяции, до них идут самцы (тк им нет необходимости создавать потомство), после самцов, напименьшими обычно является подрастающее поколение.\n",
    "\n",
    "Далее на основе интуитивных соображений.\n",
    "\n",
    "Преобразуем класс \"Пол\" в числовое значение (грубый аналог веса). Веса подбирались эксперементально, пытаясь достичь наибольшей кореляции пола к другим параметрам."
   ]
  },
  {
   "cell_type": "code",
   "execution_count": null,
   "metadata": {
    "colab": {},
    "colab_type": "code",
    "id": "pWexyZzkWk56",
    "pycharm": {
     "is_executing": false
    }
   },
   "outputs": [],
   "source": [
    "df.Sex = df.Sex.transform(lambda x:{\"M\": 0.8,\"F\": 1,\"I\": 0}[x])"
   ]
  },
  {
   "cell_type": "code",
   "execution_count": null,
   "metadata": {
    "colab": {},
    "colab_type": "code",
    "id": "JdK0SCHpWk59",
    "outputId": "234432ca-ca6d-4f4d-9417-1e56e2a22d57",
    "pycharm": {
     "is_executing": false
    }
   },
   "outputs": [],
   "source": [
    "df.head()"
   ]
  },
  {
   "cell_type": "code",
   "execution_count": null,
   "metadata": {
    "colab": {},
    "colab_type": "code",
    "id": "aaGHOugQWk6A",
    "outputId": "dd541bf2-fc1c-417e-e8af-44ccf6e81760",
    "pycharm": {
     "is_executing": false
    }
   },
   "outputs": [],
   "source": [
    "corrmat = df.corr()\n",
    "f, ax = plt.subplots(figsize=(12, 9))\n",
    "sns.heatmap(corrmat, vmax=.8, square=True, annot=True)"
   ]
  },
  {
   "cell_type": "code",
   "execution_count": null,
   "metadata": {
    "colab": {},
    "colab_type": "code",
    "id": "il2E1fntWk6D",
    "outputId": "daa80a52-197e-49d9-809c-0f7fafe1a287",
    "pycharm": {
     "is_executing": false
    }
   },
   "outputs": [],
   "source": [
    "sns.set()\n",
    "sns.pairplot(df, height = 6)\n",
    "plt.show();"
   ]
  },
  {
   "cell_type": "markdown",
   "metadata": {
    "colab_type": "text",
    "id": "xP8id4GbWk6G"
   },
   "source": [
    "Из графиков выше видно, что между почти всеми параметрами прослеживается кореляция. Так же оказалась верна наша догадка насчет пола и их числовых эквивалентов."
   ]
  },
  {
   "cell_type": "markdown",
   "metadata": {
    "colab_type": "text",
    "id": "-6sNDY_MWk6G"
   },
   "source": [
    "Попробуем избавить данные от избыточности.\n",
    "\n",
    "1. Диаметр, тк линейно зависит от длины\n",
    "2. Высота, тк линейно зависит от длины\n",
    "\n",
    "От остальных данных мы избавляться не будет тк это может напрямую повредить точности дальнейших моделей."
   ]
  },
  {
   "cell_type": "code",
   "execution_count": null,
   "metadata": {
    "colab": {},
    "colab_type": "code",
    "id": "jfhzY0FBWk6H",
    "pycharm": {
     "is_executing": false
    }
   },
   "outputs": [],
   "source": [
    "df.drop(['Diameter', 'Height'], axis=1, inplace=True)"
   ]
  },
  {
   "cell_type": "code",
   "execution_count": null,
   "metadata": {
    "colab": {},
    "colab_type": "code",
    "id": "AHv48tXhWk6J",
    "outputId": "8b03c554-45ec-4ecc-a69f-2d9dad6c8a25",
    "pycharm": {
     "is_executing": false
    }
   },
   "outputs": [],
   "source": [
    "corrmat = df.corr()\n",
    "f, ax = plt.subplots(figsize=(12, 9))\n",
    "sns.heatmap(corrmat, vmax=.8, square=True, annot=True)"
   ]
  },
  {
   "cell_type": "markdown",
   "metadata": {
    "colab_type": "text",
    "id": "WgG-GcRUWk6M"
   },
   "source": [
    "Подготавливаем заранее данные для обучения. Мы разделяем данные на тренировочные и валидационные. \n",
    "\n",
    "И создаем новые фичи:\n",
    "    1. Полиномиальные\n",
    "    2. Нормализованные"
   ]
  },
  {
   "cell_type": "code",
   "execution_count": 4,
   "metadata": {
    "colab": {},
    "colab_type": "code",
    "id": "nPLOUllZWk6N",
    "pycharm": {
     "is_executing": false
    }
   },
   "outputs": [
    {
     "ename": "NameError",
     "evalue": "name 'df' is not defined",
     "output_type": "error",
     "traceback": [
      "\u001b[1;31m---------------------------------------------------------------------------\u001b[0m",
      "\u001b[1;31mNameError\u001b[0m                                 Traceback (most recent call last)",
      "\u001b[1;32m<ipython-input-4-4f66abcbead1>\u001b[0m in \u001b[0;36m<module>\u001b[1;34m\u001b[0m\n\u001b[1;32m----> 1\u001b[1;33m \u001b[0mX_data\u001b[0m\u001b[1;33m,\u001b[0m \u001b[0mY_data\u001b[0m \u001b[1;33m=\u001b[0m \u001b[0mdf\u001b[0m\u001b[1;33m.\u001b[0m\u001b[0mloc\u001b[0m\u001b[1;33m[\u001b[0m\u001b[1;33m:\u001b[0m\u001b[1;33m,\u001b[0m\u001b[1;33m:\u001b[0m\u001b[1;34m\"Shell\"\u001b[0m\u001b[1;33m]\u001b[0m\u001b[1;33m,\u001b[0m \u001b[0mdf\u001b[0m\u001b[1;33m[\u001b[0m\u001b[1;34m\"Rings\"\u001b[0m\u001b[1;33m]\u001b[0m\u001b[1;33m\u001b[0m\u001b[1;33m\u001b[0m\u001b[0m\n\u001b[0m\u001b[0;32m      2\u001b[0m \u001b[1;33m\u001b[0m\u001b[0m\n\u001b[0;32m      3\u001b[0m \u001b[0mX_train\u001b[0m\u001b[1;33m,\u001b[0m  \u001b[0mX_test\u001b[0m\u001b[1;33m,\u001b[0m  \u001b[0my_train\u001b[0m\u001b[1;33m,\u001b[0m  \u001b[0my_test\u001b[0m \u001b[1;33m=\u001b[0m \u001b[0mtrain_test_split\u001b[0m\u001b[1;33m(\u001b[0m\u001b[0mX_data\u001b[0m\u001b[1;33m,\u001b[0m \u001b[0mY_data\u001b[0m\u001b[1;33m,\u001b[0m  \u001b[0mtest_size\u001b[0m\u001b[1;33m=\u001b[0m \u001b[1;36m0.20\u001b[0m\u001b[1;33m,\u001b[0m  \u001b[0mrandom_state\u001b[0m\u001b[1;33m=\u001b[0m \u001b[1;36m42\u001b[0m \u001b[1;33m)\u001b[0m\u001b[1;33m\u001b[0m\u001b[1;33m\u001b[0m\u001b[0m\n\u001b[0;32m      4\u001b[0m \u001b[0msplited_data\u001b[0m \u001b[1;33m=\u001b[0m \u001b[1;33m[\u001b[0m\u001b[0mX_train\u001b[0m\u001b[1;33m,\u001b[0m \u001b[0my_train\u001b[0m\u001b[1;33m,\u001b[0m \u001b[0mX_test\u001b[0m\u001b[1;33m,\u001b[0m \u001b[0my_test\u001b[0m\u001b[1;33m]\u001b[0m\u001b[1;33m\u001b[0m\u001b[1;33m\u001b[0m\u001b[0m\n\u001b[0;32m      5\u001b[0m \u001b[1;33m\u001b[0m\u001b[0m\n",
      "\u001b[1;31mNameError\u001b[0m: name 'df' is not defined"
     ]
    }
   ],
   "source": [
    "X_data, Y_data = df.loc[:,:\"Shell\"], df[\"Rings\"]\n",
    "\n",
    "X_train,  X_test,  y_train,  y_test = train_test_split(X_data, Y_data,  test_size= 0.20,  random_state= 42 )\n",
    "splited_data = [X_train, y_train, X_test, y_test]\n",
    "\n",
    "# данные, дополненные полиномами\n",
    "poly = PolynomialFeatures(degree = 2)\n",
    "poly_splited_data = [poly.fit_transform(X_train), y_train, poly.transform(X_test), y_test]\n",
    "poly_X_data = X_test.copy()\n",
    "poly_X_data = poly.transform(poly_X_data)\n",
    "\n",
    "# нормализованные данные\n",
    "scaler = StandardScaler()\n",
    "scaler.fit(X_train)\n",
    "norm_X_train = scaler.transform(X_train)\n",
    "norm_X_test = scaler.transform(X_test)\n",
    "norm_splited_data = [norm_X_train, y_train, norm_X_test, y_test]"
   ]
  },
  {
   "cell_type": "markdown",
   "metadata": {
    "colab_type": "text",
    "id": "Uohmrh2zWk6P"
   },
   "source": [
    "Для тестирования моделей мы будем округлять результат предсказаний до целого, после считать стандартные для задачи регрессии метрики.\n",
    "\n",
    "1. средняя ошибка\n",
    "2. средняя абсолютная ошибка\n",
    "3. средняя квадратичная ошибка"
   ]
  },
  {
   "cell_type": "markdown",
   "metadata": {
    "colab_type": "text",
    "id": "UJCFx1GuWk6Q"
   },
   "source": [
    "Пробуем линейную регрессию на оригинальных данных"
   ]
  },
  {
   "cell_type": "code",
   "execution_count": null,
   "metadata": {
    "colab": {},
    "colab_type": "code",
    "id": "J9pvodBeWk6Q",
    "outputId": "68610876-7d73-4c2d-dfe9-4a8a3a199082",
    "pycharm": {
     "is_executing": false
    },
    "scrolled": false
   },
   "outputs": [],
   "source": [
    "#model = load_from_file(\"models/1_linear_regression.hdf5\")\n",
    "model = LinearRegression()\n",
    "model.fit(X_train, y_train)\n",
    "calc_errors(model.predict(X_test).astype(int), y_test)"
   ]
  },
  {
   "cell_type": "markdown",
   "metadata": {
    "colab_type": "text",
    "id": "AVst_TeyWk6T"
   },
   "source": [
    "Пробуем линейную регрессию на полиномиальных фичах"
   ]
  },
  {
   "cell_type": "code",
   "execution_count": null,
   "metadata": {
    "colab": {},
    "colab_type": "code",
    "id": "sl66NZCRWk6U",
    "outputId": "d46c02a7-fdca-477f-c827-d4bd9007003f",
    "pycharm": {
     "is_executing": false
    }
   },
   "outputs": [],
   "source": [
    "#model = load_from_file(\"models/1_poly_regression.hdf5\")\n",
    "model = LinearRegression()\n",
    "model.fit(poly_splited_data[0],poly_splited_data[1])\n",
    "calc_errors(model.predict(poly_splited_data[2]).astype(int), y_test)"
   ]
  },
  {
   "cell_type": "markdown",
   "metadata": {
    "colab_type": "text",
    "id": "_wykfmaaWk6W"
   },
   "source": [
    "Использование полиномиальных фич улучшило результат. Есть смысл попробовать более сложные модели."
   ]
  },
  {
   "cell_type": "markdown",
   "metadata": {
    "colab_type": "text",
    "id": "A15J6DKxXHAy"
   },
   "source": [
    "Начнем с модели регрессии на основе k-ближайших соседей:"
   ]
  },
  {
   "cell_type": "code",
   "execution_count": null,
   "metadata": {
    "colab": {},
    "colab_type": "code",
    "id": "FIyM7IroWk6X",
    "outputId": "c6b723b1-c060-441c-a1c9-8b4832c9a832",
    "pycharm": {
     "is_executing": false
    }
   },
   "outputs": [],
   "source": [
    "#model = load_from_file(\"models/1_n_neighbors_8.hdf5\")\n",
    "model = KNeighborsRegressor(n_neighbors=8)\n",
    "model.fit(X_train, y_train)\n",
    "calc_errors(model.predict(X_test).astype(int), y_test)"
   ]
  },
  {
   "cell_type": "markdown",
   "metadata": {
    "colab_type": "text",
    "id": "xa9TA51nXNzO"
   },
   "source": [
    "Попробуем случайный лес:"
   ]
  },
  {
   "cell_type": "code",
   "execution_count": null,
   "metadata": {
    "colab": {},
    "colab_type": "code",
    "id": "6oHGulijWk6Z",
    "outputId": "83dc907c-dabd-4dc9-b743-fb617c034cc2",
    "pycharm": {
     "is_executing": false
    }
   },
   "outputs": [],
   "source": [
    "# model = load_from_file(\"models/2_voting_lr_rf.hdf5\")\n",
    "m2 = RandomForestRegressor(random_state = 42, n_estimators=300)\n",
    "m3 = LinearRegression()\n",
    "model = VotingRegressor(estimators=[('rf', m2), ('lr', m3)])\n",
    "model.fit(X_train, y_train)\n",
    "calc_errors(model.predict(X_test).astype(int), y_test)"
   ]
  },
  {
   "cell_type": "markdown",
   "metadata": {
    "colab_type": "text",
    "id": "OvtrzWUsXalP"
   },
   "source": [
    "Случайный лес показал результат лучше, чем k-ближайших соседей. Попробуем следующую модели, основанные на ансамблях:"
   ]
  },
  {
   "cell_type": "code",
   "execution_count": null,
   "metadata": {
    "colab": {},
    "colab_type": "code",
    "id": "W7BbON0wWk6e",
    "outputId": "c1eba714-2c96-4379-8864-969d0c0af605",
    "pycharm": {
     "is_executing": false
    },
    "scrolled": false
   },
   "outputs": [],
   "source": [
    "model = load_from_file(\"models/3_ensemble_40_times_15.hdf5\")\n",
    "print(\"Модель:\\n\", model)\n",
    "calc_errors(model.predict(X_test).astype(int), y_test)"
   ]
  },
  {
   "cell_type": "code",
   "execution_count": null,
   "metadata": {
    "colab": {},
    "colab_type": "code",
    "id": "WKeu1SbrWk6b",
    "outputId": "c8934cb0-fa3e-4f5f-bc35-9ab298fdb68d",
    "pycharm": {
     "is_executing": false
    },
    "scrolled": false
   },
   "outputs": [],
   "source": [
    "model = load_from_file(\"models/3_ensemble_30_times_10_15.hdf5\")\n",
    "print(\"Модель:\\n\", model)\n",
    "calc_errors(model.predict(X_test).astype(int), y_test)"
   ]
  },
  {
   "cell_type": "markdown",
   "metadata": {},
   "source": [
    "На данный момент это наиболее качественная модель, чтобы убедиться в её качестве проверим на кроссвалидации:"
   ]
  },
  {
   "cell_type": "code",
   "execution_count": null,
   "metadata": {
    "pycharm": {
     "is_executing": false,
     "name": "#%%\n"
    }
   },
   "outputs": [],
   "source": [
    "model = BaggingRegressor(base_estimator= MLPRegressor(hidden_layer_sizes=(10,15), solver='lbfgs', random_state=42, max_iter=4500), n_estimators=30, random_state=42)\n",
    "scores = cross_val_score(model, \n",
    "                         X_data, Y_data, cv=4, \n",
    "                         scoring=lambda m, x, y: mean_absolute_error(m.predict(x).astype(int), y),\n",
    "                         n_jobs=-1\n",
    "                        )\n",
    "print('Средние абсолютные ошибки полученные на кроссвалидации:', ', '.join(['{0:0.2f}'.format(i) for i in scores])[:-2])"
   ]
  },
  {
   "cell_type": "markdown",
   "metadata": {},
   "source": [
    "Как мы видели ранее, данные меняются в зависимости от пола. \n",
    "Из-за этого есть смысл проанализировать данные отдельно и, при необходимости, посмотреть насколько изменяется качество моделей, \n",
    "если строить их для конкретного пола.\n",
    "\n",
    "\n",
    "Попробуем проанализировать данные по каждому полу отдельно."
   ]
  },
  {
   "cell_type": "code",
   "execution_count": null,
   "metadata": {
    "pycharm": {
     "is_executing": false
    }
   },
   "outputs": [],
   "source": [
    "model = BaggingRegressor(base_estimator= MLPRegressor(hidden_layer_sizes=(10,15), solver='lbfgs', random_state=42, max_iter=4500), n_estimators=30, random_state=42)\n",
    "scores = cross_val_score(model, \n",
    "                         X_data, Y_data, cv=4, \n",
    "                         scoring=lambda m, x, y: mean_absolute_error(m.predict(x).astype(int), y),\n",
    "                         n_jobs=-1\n",
    "                        )\n",
    "print('Средние абсолютные ошибки полученные на кроссвалидации:', ', '.join(['{0:0.2f}'.format(i) for i in scores])[:-2])"
   ]
  },
  {
   "cell_type": "markdown",
   "metadata": {
    "colab_type": "text",
    "id": "neX4xXSJWk6g"
   },
   "source": [
    "Как мы видели ранее, данные меняются в зависимости от пола. \n",
    "Из-за этого есть смысл проанализировать данные отдельно и, при необходимости, посмотреть насколько изменяется качество моделей, \n",
    "если строить их для конкретного пола.\n",
    "\n",
    "\n",
    "Попробуем проанализировать данные по каждому полу отдельно."
   ]
  },
  {
   "cell_type": "code",
   "execution_count": 5,
   "metadata": {
    "colab": {},
    "colab_type": "code",
    "id": "GGvG7-akWk6h",
    "pycharm": {
     "is_executing": false
    }
   },
   "outputs": [
    {
     "ename": "NameError",
     "evalue": "name 'data_path' is not defined",
     "output_type": "error",
     "traceback": [
      "\u001b[1;31m---------------------------------------------------------------------------\u001b[0m",
      "\u001b[1;31mNameError\u001b[0m                                 Traceback (most recent call last)",
      "\u001b[1;32m<ipython-input-5-43c40259810b>\u001b[0m in \u001b[0;36m<module>\u001b[1;34m\u001b[0m\n\u001b[1;32m----> 1\u001b[1;33m \u001b[0mdf\u001b[0m \u001b[1;33m=\u001b[0m \u001b[0mpd\u001b[0m\u001b[1;33m.\u001b[0m\u001b[0mread_csv\u001b[0m\u001b[1;33m(\u001b[0m\u001b[0mdata_path\u001b[0m\u001b[1;33m)\u001b[0m\u001b[1;33m\u001b[0m\u001b[1;33m\u001b[0m\u001b[0m\n\u001b[0m\u001b[0;32m      2\u001b[0m \u001b[0mdf_M\u001b[0m \u001b[1;33m=\u001b[0m \u001b[0mdf\u001b[0m\u001b[1;33m[\u001b[0m\u001b[0mdf\u001b[0m\u001b[1;33m[\u001b[0m\u001b[1;34m'Sex'\u001b[0m\u001b[1;33m]\u001b[0m\u001b[1;33m==\u001b[0m\u001b[1;34m\"M\"\u001b[0m\u001b[1;33m]\u001b[0m\u001b[1;33m.\u001b[0m\u001b[0mcopy\u001b[0m\u001b[1;33m(\u001b[0m\u001b[1;33m)\u001b[0m\u001b[1;33m\u001b[0m\u001b[1;33m\u001b[0m\u001b[0m\n\u001b[0;32m      3\u001b[0m \u001b[0mdf_F\u001b[0m \u001b[1;33m=\u001b[0m \u001b[0mdf\u001b[0m\u001b[1;33m[\u001b[0m\u001b[0mdf\u001b[0m\u001b[1;33m[\u001b[0m\u001b[1;34m'Sex'\u001b[0m\u001b[1;33m]\u001b[0m\u001b[1;33m==\u001b[0m\u001b[1;34m\"F\"\u001b[0m\u001b[1;33m]\u001b[0m\u001b[1;33m.\u001b[0m\u001b[0mcopy\u001b[0m\u001b[1;33m(\u001b[0m\u001b[1;33m)\u001b[0m\u001b[1;33m\u001b[0m\u001b[1;33m\u001b[0m\u001b[0m\n\u001b[0;32m      4\u001b[0m \u001b[0mdf_I\u001b[0m \u001b[1;33m=\u001b[0m \u001b[0mdf\u001b[0m\u001b[1;33m[\u001b[0m\u001b[0mdf\u001b[0m\u001b[1;33m[\u001b[0m\u001b[1;34m'Sex'\u001b[0m\u001b[1;33m]\u001b[0m\u001b[1;33m==\u001b[0m\u001b[1;34m\"I\"\u001b[0m\u001b[1;33m]\u001b[0m\u001b[1;33m.\u001b[0m\u001b[0mcopy\u001b[0m\u001b[1;33m(\u001b[0m\u001b[1;33m)\u001b[0m\u001b[1;33m\u001b[0m\u001b[1;33m\u001b[0m\u001b[0m\n\u001b[0;32m      5\u001b[0m \u001b[1;33m\u001b[0m\u001b[0m\n",
      "\u001b[1;31mNameError\u001b[0m: name 'data_path' is not defined"
     ]
    }
   ],
   "source": [
    "df = pd.read_csv(data_path)\n",
    "df_M = df[df['Sex']==\"M\"].copy()\n",
    "df_F = df[df['Sex']==\"F\"].copy()\n",
    "df_I = df[df['Sex']==\"I\"].copy()\n",
    "\n",
    "df_M.drop('Sex', axis=1, inplace=True)\n",
    "df_F.drop('Sex', axis=1, inplace=True)\n",
    "df_I.drop('Sex', axis=1, inplace=True)"
   ]
  },
  {
   "cell_type": "code",
   "execution_count": null,
   "metadata": {
    "colab": {},
    "colab_type": "code",
    "id": "PlSth17ZWk6j",
    "outputId": "05864ae6-56e2-479f-8ed9-8c1d1557d25a",
    "pycharm": {
     "is_executing": false
    },
    "scrolled": false
   },
   "outputs": [],
   "source": [
    "corrmat = df_M.corr()\n",
    "f, ax = plt.subplots(figsize=(13, 10))\n",
    "sns.heatmap(corrmat, vmax=.8, square=True, annot=True)"
   ]
  },
  {
   "cell_type": "code",
   "execution_count": null,
   "metadata": {
    "colab": {},
    "colab_type": "code",
    "id": "3Wyfzu_QWk6m",
    "pycharm": {
     "is_executing": false
    }
   },
   "outputs": [],
   "source": [
    "df_M.drop(['Diameter', 'Height'], axis=1, inplace=True)"
   ]
  },
  {
   "cell_type": "code",
   "execution_count": null,
   "metadata": {
    "colab": {},
    "colab_type": "code",
    "id": "BbKxDt5qWk6p",
    "outputId": "5fcd62de-07c0-4346-ee82-322c6a35e09f",
    "pycharm": {
     "is_executing": false
    }
   },
   "outputs": [],
   "source": [
    "corrmat = df_F.corr()\n",
    "f, ax = plt.subplots(figsize=(12, 9))\n",
    "sns.heatmap(corrmat, vmax=.8, square=True, annot=True)"
   ]
  },
  {
   "cell_type": "markdown",
   "metadata": {
    "colab_type": "text",
    "id": "WDTMBhLDWk6r"
   },
   "source": [
    "Как видно, параметр Shucked(скорлупа) почти не влияет на возраст и может быть удалён.\n",
    "Также, в данном случае, мы не удаляем высоту, т.к. она мало корелирует с другими параметрами и скорее всего предоставляет много информации."
   ]
  },
  {
   "cell_type": "code",
   "execution_count": null,
   "metadata": {
    "colab": {},
    "colab_type": "code",
    "id": "LX038ojRWk6r",
    "pycharm": {
     "is_executing": false
    }
   },
   "outputs": [],
   "source": [
    "df_F.drop(['Diameter', 'Shucked'], axis=1, inplace=True)"
   ]
  },
  {
   "cell_type": "code",
   "execution_count": null,
   "metadata": {
    "colab": {},
    "colab_type": "code",
    "id": "YHp70xbwWk6u",
    "outputId": "e874fbf4-ef66-4c5e-c56b-5d8500f04da6",
    "pycharm": {
     "is_executing": false
    },
    "scrolled": false
   },
   "outputs": [],
   "source": [
    "corrmat = df_I.corr()\n",
    "f, ax = plt.subplots(figsize=(12, 9))\n",
    "sns.heatmap(corrmat, vmax=.8, square=True, annot=True)"
   ]
  },
  {
   "cell_type": "code",
   "execution_count": null,
   "metadata": {
    "colab": {},
    "colab_type": "code",
    "id": "rr49seDyWk6w",
    "pycharm": {
     "is_executing": false
    }
   },
   "outputs": [],
   "source": [
    "df_I.drop(['Length', 'Diameter'], axis=1, inplace=True)"
   ]
  },
  {
   "cell_type": "markdown",
   "metadata": {
    "colab_type": "text",
    "id": "9Y_2MXpKWk6z"
   },
   "source": [
    "У разных полов различаются корреляции.\n",
    "Попробуем построить модели для каждого пола по отдельности."
   ]
  },
  {
   "cell_type": "code",
   "execution_count": null,
   "metadata": {
    "colab": {},
    "colab_type": "code",
    "id": "JuuA4n1FWk62",
    "pycharm": {
     "is_executing": false
    }
   },
   "outputs": [],
   "source": [
    "X_data_M, Y_data_M = df_M.loc[:,:\"Shell\"], df_M[\"Rings\"]\n",
    "X_train_M,  X_test_M,  y_train_M,  y_test_M =  train_test_split(X_data_M, Y_data_M,  test_size= 0.20,  random_state= 42 )\n",
    "splitted_data_M = [X_train_M,  y_train_M, X_test_M,  y_test_M]\n",
    "\n",
    "X_data_F, Y_data_F = df_F.loc[:,:\"Shell\"], df_F[\"Rings\"]\n",
    "X_train_F,  X_test_F,  y_train_F,  y_test_F =  train_test_split(X_data_F, Y_data_F,  test_size= 0.20,  random_state= 42 )\n",
    "splitted_data_F = [X_train_F,  y_train_F, X_test_F,  y_test_F]\n",
    "\n",
    "X_data_I, Y_data_I = df_I.loc[:,:\"Shell\"], df_I[\"Rings\"]\n",
    "X_train_I,  X_test_I,  y_train_I,  y_test_I =  train_test_split(X_data_I, Y_data_I,  test_size= 0.20,  random_state= 42 )\n",
    "splitted_data_I = [X_train_I,  y_train_I, X_test_I,  y_test_I]"
   ]
  },
  {
   "cell_type": "code",
   "execution_count": null,
   "metadata": {
    "colab": {},
    "colab_type": "code",
    "id": "tR4lW1k8Wk68",
    "outputId": "29ff0681-07f6-4695-cacf-bf0c52ee07e0",
    "pycharm": {
     "is_executing": false
    }
   },
   "outputs": [],
   "source": [
    "test_model_F(*splitted_data_M, LinearRegression, save_model = False)\n",
    "test_model_F(*splitted_data_F, LinearRegression, save_model = False)\n",
    "test_model_F(*splitted_data_I, LinearRegression, save_model = False)"
   ]
  },
  {
   "cell_type": "markdown",
   "metadata": {
    "colab_type": "text",
    "id": "sUtSuJ2mWk7C"
   },
   "source": [
    "Как мы видим:\n",
    "\n",
    "1. С предсказанием возраста у младенцев неплохо справляется и обычная регрессия\n",
    "2. Наиболее сложными для предсказания оказались самки\n",
    "\n",
    "Посмотрим на результаты более детально:"
   ]
  },
  {
   "cell_type": "markdown",
   "metadata": {
    "colab_type": "text",
    "id": "wQWS9EycZ-5k"
   },
   "source": [
    "Самцы:"
   ]
  },
  {
   "cell_type": "code",
   "execution_count": null,
   "metadata": {
    "colab": {},
    "colab_type": "code",
    "id": "2BF8pS3bWk7D",
    "outputId": "e8c41e59-3634-4098-aaa5-18f077b92502",
    "pycharm": {
     "is_executing": false
    }
   },
   "outputs": [],
   "source": [
    "model = LinearRegression()\n",
    "model.fit(X_train_M, y_train_M)\n",
    "calc_errors(model.predict(X_test_M).astype(int), y_test_M)"
   ]
  },
  {
   "cell_type": "markdown",
   "metadata": {
    "colab_type": "text",
    "id": "aeFiODvFaBVh"
   },
   "source": [
    "Самки:"
   ]
  },
  {
   "cell_type": "code",
   "execution_count": null,
   "metadata": {
    "colab": {},
    "colab_type": "code",
    "id": "7ffCKactWk7I",
    "outputId": "43034b22-d01a-4764-e0cc-ad8eb9f91ab0",
    "pycharm": {
     "is_executing": false
    }
   },
   "outputs": [],
   "source": [
    "model = LinearRegression()\n",
    "model.fit(X_train_F, y_train_F)\n",
    "calc_errors(model.predict(X_test_F).astype(int), y_test_F)"
   ]
  },
  {
   "cell_type": "markdown",
   "metadata": {
    "colab_type": "text",
    "id": "h8tGpRlGaClC"
   },
   "source": [
    "Младенцы:"
   ]
  },
  {
   "cell_type": "code",
   "execution_count": null,
   "metadata": {
    "colab": {},
    "colab_type": "code",
    "id": "JV8sugQPWk7O",
    "outputId": "b7b41259-f915-49ee-cf14-f878d35e2748",
    "pycharm": {
     "is_executing": false
    },
    "scrolled": true
   },
   "outputs": [],
   "source": [
    "model = LinearRegression()\n",
    "model.fit(X_train_I, y_train_I)\n",
    "predicted = model.predict(X_test_I).astype(int)\n",
    "calc_errors(predicted, y_test_I)"
   ]
  },
  {
   "cell_type": "markdown",
   "metadata": {
    "colab_type": "text",
    "id": "8t-mx1h_Wk7T"
   },
   "source": [
    "Для представления категориального параметра \"Пол\" мы уже попробовали грубый аналог веса и раздельние данных. Есть также смысл представить пол с помощью One-Hot Encoding."
   ]
  },
  {
   "cell_type": "code",
   "execution_count": null,
   "metadata": {
    "colab": {},
    "colab_type": "code",
    "id": "RMV9UQTQWk7U",
    "pycharm": {
     "is_executing": false
    }
   },
   "outputs": [],
   "source": [
    "df = pd.read_csv(data_path)\n",
    "one_hot = pd.get_dummies(df['Sex'])\n",
    "df = df.drop('Sex',axis = 1)\n",
    "# Join the encoded df\n",
    "df = df.join(one_hot)"
   ]
  },
  {
   "cell_type": "code",
   "execution_count": null,
   "metadata": {
    "colab": {},
    "colab_type": "code",
    "id": "o_aseA_9Wk7a",
    "outputId": "e454a474-5c4b-42dc-b75d-55241b82068f",
    "pycharm": {
     "is_executing": false
    }
   },
   "outputs": [],
   "source": [
    "df.head()"
   ]
  },
  {
   "cell_type": "markdown",
   "metadata": {
    "colab_type": "text",
    "id": "z_qDtg8aWk7f"
   },
   "source": [
    "Теперь у нас есть 3 биномиальных предиктора F, I, M"
   ]
  },
  {
   "cell_type": "code",
   "execution_count": null,
   "metadata": {
    "colab": {},
    "colab_type": "code",
    "id": "Z-6L9NTNWk7f",
    "outputId": "62ed1893-67f5-4461-fae9-cae224bde678",
    "pycharm": {
     "is_executing": false
    }
   },
   "outputs": [],
   "source": [
    "corrmat = df.corr()\n",
    "f, ax = plt.subplots(figsize=(12, 9))\n",
    "sns.heatmap(corrmat, vmax=.8, square=True, annot=True)"
   ]
  },
  {
   "cell_type": "markdown",
   "metadata": {
    "colab_type": "text",
    "id": "cH8EjK_3Wk7i"
   },
   "source": [
    "Учтем те параметры которые мы удаляли для самок."
   ]
  },
  {
   "cell_type": "code",
   "execution_count": null,
   "metadata": {
    "colab": {},
    "colab_type": "code",
    "id": "3HW3VszNWk7i",
    "pycharm": {
     "is_executing": false
    }
   },
   "outputs": [],
   "source": [
    "df.drop(['Diameter'], axis=1, inplace=True)"
   ]
  },
  {
   "cell_type": "markdown",
   "metadata": {
    "colab_type": "text",
    "id": "RizdjFtxWk7l"
   },
   "source": [
    "Подготовим данные для тренировки (анлогично тому как мы делали до этого)"
   ]
  },
  {
   "cell_type": "code",
   "execution_count": null,
   "metadata": {
    "colab": {},
    "colab_type": "code",
    "id": "CZCOGcJ1Wk7l",
    "pycharm": {
     "is_executing": false
    }
   },
   "outputs": [],
   "source": [
    "X_data, Y_data = df.drop(['Rings'], axis=1), df[\"Rings\"]\n",
    "\n",
    "\n",
    "X_train,  X_test,  y_train,  y_test = train_test_split(X_data, Y_data,  test_size= 0.20,  random_state= 42 )"
   ]
  },
  {
   "cell_type": "markdown",
   "metadata": {
    "colab_type": "text",
    "id": "eS5_cYVuWk7n"
   },
   "source": [
    "Далее протестируем изменение качества предсказания на нескольких моделях:"
   ]
  },
  {
   "cell_type": "markdown",
   "metadata": {
    "colab_type": "text",
    "id": "x4BfX0uFanV9"
   },
   "source": [
    "Линейная регрессия на оригинальных данных:"
   ]
  },
  {
   "cell_type": "code",
   "execution_count": null,
   "metadata": {
    "colab": {},
    "colab_type": "code",
    "id": "qh5QohlhWk7o",
    "outputId": "ec2851fd-9752-4d20-efc5-1796425e60d7",
    "pycharm": {
     "is_executing": false
    }
   },
   "outputs": [],
   "source": [
    "model = LinearRegression()\n",
    "model.fit(X_train, y_train)\n",
    "calc_errors(model.predict(X_test).astype(int), y_test)"
   ]
  },
  {
   "cell_type": "markdown",
   "metadata": {
    "colab_type": "text",
    "id": "xz63rm4eawI5"
   },
   "source": [
    "Случайный лес:"
   ]
  },
  {
   "cell_type": "code",
   "execution_count": null,
   "metadata": {
    "colab": {},
    "colab_type": "code",
    "id": "CRG2AWdgWk7r",
    "outputId": "faa7cd4f-f6ca-42bb-b151-edb0d3d96b39",
    "pycharm": {
     "is_executing": false
    }
   },
   "outputs": [],
   "source": [
    "m2 = RandomForestRegressor(random_state = 42, n_estimators=300)\n",
    "m3 = LinearRegression()\n",
    "model = VotingRegressor(estimators=[('rf', m2), ('lr', m3)])\n",
    "model.fit(X_train, y_train)\n",
    "calc_errors(model.predict(X_test).astype(int), y_test)"
   ]
  },
  {
   "cell_type": "markdown",
   "metadata": {
    "colab_type": "text",
    "id": "hlMDjXVpWk7t"
   },
   "source": [
    "По результатам тестирования можно увидеть, что значения оказались хуже, чем на аналогичных моделях при использовнии грубого коэффициента или разделении данных.\n",
    "Дальнейшие пробы One-Hot Encoding выглядят нецелесообразными."
   ]
  }
 ],
 "metadata": {
  "colab": {
   "name": "abalone.ipynb",
   "provenance": [],
   "toc_visible": true
  },
  "kernelspec": {
   "display_name": "Python 3",
   "language": "python",
   "name": "python3"
  },
  "language_info": {
   "codemirror_mode": {
    "name": "ipython",
    "version": 3
   },
   "file_extension": ".py",
   "mimetype": "text/x-python",
   "name": "python",
   "nbconvert_exporter": "python",
   "pygments_lexer": "ipython3",
   "version": "3.7.4"
  },
  "pycharm": {
   "stem_cell": {
    "cell_type": "raw",
    "source": [],
    "metadata": {
     "collapsed": false
    }
   }
  }
 },
 "nbformat": 4,
 "nbformat_minor": 1
}